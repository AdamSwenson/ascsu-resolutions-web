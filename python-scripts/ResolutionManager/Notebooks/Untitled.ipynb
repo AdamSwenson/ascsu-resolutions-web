{
 "cells": [
  {
   "cell_type": "code",
   "execution_count": null,
   "id": "2ba35bdc",
   "metadata": {},
   "outputs": [],
   "source": [
    "import pandas as pd\n",
    "import matplotlib.pyplot as plt\n",
    "import os\n",
    "ROOT = '%s/Documents/TEMPORARY' % os.getenv(\"HOME\")\n",
    "sourcefile = f'{ROOT}/csudata.xlsx'\n",
    "yearfile = f'{ROOT}/csudata-year.xlsx'"
   ]
  },
  {
   "cell_type": "code",
   "execution_count": null,
   "id": "2f919470",
   "metadata": {},
   "outputs": [],
   "source": [
    "data = pd.read_excel(sourcefile)\n",
    "data.set_index('group', inplace=True)"
   ]
  },
  {
   "cell_type": "code",
   "execution_count": null,
   "id": "80c4a7b3",
   "metadata": {},
   "outputs": [],
   "source": [
    "fix, ax = plt.subplots(figsize=(10,3))\n",
    "data.drop('initial', axis=1).T.plot(title='cumulative students lost', ax=ax)\n",
    "plt.legend(ncols=3)"
   ]
  },
  {
   "cell_type": "code",
   "execution_count": null,
   "id": "f6af5c48",
   "metadata": {},
   "outputs": [],
   "source": [
    "# off of leavers by year"
   ]
  },
  {
   "cell_type": "code",
   "execution_count": null,
   "id": "5c049e3e",
   "metadata": {},
   "outputs": [],
   "source": [
    "d = pd.read_excel(yearfile)\n",
    "d.set_index('group', inplace=True)"
   ]
  },
  {
   "cell_type": "code",
   "execution_count": null,
   "id": "f473d8b6",
   "metadata": {},
   "outputs": [],
   "source": [
    "d2 = d.copy()\n",
    "\n",
    "def f(row, col):\n",
    "    return round((row[col] / row.initial)* 100, 1 )\n",
    "\n",
    "for c in [c for c in d2.columns if c != 'initial']:\n",
    "    if c != 'initial':\n",
    "        d2[c] = d2.apply(lambda x : f(x, c), axis=1)\n",
    "# d2"
   ]
  },
  {
   "cell_type": "code",
   "execution_count": null,
   "id": "8e6db13e",
   "metadata": {},
   "outputs": [],
   "source": [
    "fix, ax = plt.subplots(figsize=(10, 3))\n",
    "d2.drop('initial', axis=1).T.plot(table=True, ax=ax, title='% loss from initial by year')\n",
    "ax.axes.get_xaxis().set_visible(False)"
   ]
  },
  {
   "cell_type": "code",
   "execution_count": null,
   "id": "480569b2",
   "metadata": {},
   "outputs": [],
   "source": [
    "remaining = d.copy()\n",
    "cols = remaining.columns.tolist()\n",
    "idx = 0\n",
    "\n",
    "def g(row, i):\n",
    "    return row[cols[i-1]] - row[cols[i]]\n",
    "    \n",
    "for i in range(0, len(cols)):\n",
    "    if i >0:\n",
    "        remaining[cols[i]] = remaining.apply(lambda x: g(x, i), axis=1)"
   ]
  },
  {
   "cell_type": "code",
   "execution_count": null,
   "id": "3ab9a5ce",
   "metadata": {},
   "outputs": [],
   "source": [
    "fix, ax = plt.subplots(figsize=(10, 3))\n",
    "remaining.T.drop('all', axis=1).plot(table=True, ax=ax, title='Students remaining in each year')\n",
    "ax.axes.get_xaxis().set_visible(False); plt.legend(ncols=3)"
   ]
  },
  {
   "cell_type": "code",
   "execution_count": null,
   "id": "78f22f20",
   "metadata": {},
   "outputs": [],
   "source": [
    "# excluding latine\n",
    "fix, ax = plt.subplots(figsize=(10, 3))\n",
    "remaining.T.drop(['all', 'latine'], axis=1).plot(table=True, ax=ax, title='Students remaining in each year (ex latine)')\n",
    "ax.axes.get_xaxis().set_visible(False); plt.legend(ncols=3)"
   ]
  },
  {
   "cell_type": "code",
   "execution_count": null,
   "id": "99a5e212",
   "metadata": {},
   "outputs": [],
   "source": [
    "d4 = remaining.copy()\n",
    "cols = d4.columns.tolist()\n",
    "\n",
    "def g(row, i):\n",
    "    a = row[cols[i]] / row[cols[i-1]]\n",
    "    return round((1 - a) * 100, 2)\n",
    "    \n",
    "for i in range(0, len(cols)):\n",
    "    if i >0:\n",
    "        d4[cols[i]] = remaining.apply(lambda x: g(x, i), axis=1)"
   ]
  },
  {
   "cell_type": "code",
   "execution_count": null,
   "id": "145f7db4",
   "metadata": {},
   "outputs": [],
   "source": [
    "fix, ax = plt.subplots(figsize=(10,3))\n",
    "d4.drop('initial', axis=1).T.plot(table=True, ax=ax, title='% loss from previous year')\n",
    "ax.axes.get_xaxis().set_visible(False); plt.legend(ncols=2)"
   ]
  },
  {
   "cell_type": "code",
   "execution_count": null,
   "id": "1cf69f45",
   "metadata": {},
   "outputs": [],
   "source": [
    "d5 = d4.copy().drop('initial', axis=1)\n",
    "cols = d5.columns.tolist()\n",
    "\n",
    "def h(row, i):\n",
    "    a = row[cols[i-1]] - row[cols[i]]\n",
    "    return - round(a, 2)\n",
    "    \n",
    "for i in range(0, len(cols)):\n",
    "    if i >0:\n",
    "        d5[cols[i]] = d4.apply(lambda x: h(x, i), axis=1)"
   ]
  },
  {
   "cell_type": "code",
   "execution_count": null,
   "id": "17efbacb",
   "metadata": {},
   "outputs": [],
   "source": [
    "fix, ax = plt.subplots(figsize=(10,3))\n",
    "d5.drop('y1', axis=1).T.plot(table=True, ax=ax, title='change in % loss from previous year')\n",
    "ax.axes.get_xaxis().set_visible(False); plt.legend(ncols=6)"
   ]
  },
  {
   "cell_type": "code",
   "execution_count": null,
   "id": "d7f6ef83",
   "metadata": {},
   "outputs": [],
   "source": []
  },
  {
   "cell_type": "code",
   "execution_count": null,
   "id": "ad3ff148",
   "metadata": {},
   "outputs": [],
   "source": []
  },
  {
   "cell_type": "code",
   "execution_count": null,
   "id": "94d939c4",
   "metadata": {},
   "outputs": [],
   "source": []
  },
  {
   "cell_type": "code",
   "execution_count": null,
   "id": "17488b74",
   "metadata": {},
   "outputs": [],
   "source": []
  },
  {
   "cell_type": "code",
   "execution_count": null,
   "id": "00dab412",
   "metadata": {},
   "outputs": [],
   "source": []
  },
  {
   "cell_type": "code",
   "execution_count": null,
   "id": "075fe04b",
   "metadata": {},
   "outputs": [],
   "source": []
  },
  {
   "cell_type": "code",
   "execution_count": null,
   "id": "9af3be93",
   "metadata": {},
   "outputs": [],
   "source": []
  },
  {
   "cell_type": "code",
   "execution_count": null,
   "id": "22b10d1f",
   "metadata": {},
   "outputs": [],
   "source": []
  },
  {
   "cell_type": "code",
   "execution_count": null,
   "id": "68062092",
   "metadata": {},
   "outputs": [],
   "source": []
  },
  {
   "cell_type": "code",
   "execution_count": null,
   "id": "52d121b9",
   "metadata": {},
   "outputs": [],
   "source": []
  },
  {
   "cell_type": "code",
   "execution_count": null,
   "id": "693ff761",
   "metadata": {},
   "outputs": [],
   "source": []
  },
  {
   "cell_type": "code",
   "execution_count": null,
   "id": "76585aff",
   "metadata": {},
   "outputs": [],
   "source": []
  },
  {
   "cell_type": "code",
   "execution_count": null,
   "id": "82f5dfd4",
   "metadata": {},
   "outputs": [],
   "source": []
  },
  {
   "cell_type": "code",
   "execution_count": null,
   "id": "590ddad2",
   "metadata": {},
   "outputs": [],
   "source": []
  },
  {
   "cell_type": "code",
   "execution_count": null,
   "id": "5db9613b",
   "metadata": {},
   "outputs": [],
   "source": []
  },
  {
   "cell_type": "code",
   "execution_count": null,
   "id": "ae4a98d7",
   "metadata": {},
   "outputs": [],
   "source": []
  },
  {
   "cell_type": "code",
   "execution_count": null,
   "id": "954df3fe",
   "metadata": {},
   "outputs": [],
   "source": []
  }
 ],
 "metadata": {
  "kernelspec": {
   "display_name": "Python 3 (ipykernel)",
   "language": "python",
   "name": "python3"
  },
  "language_info": {
   "codemirror_mode": {
    "name": "ipython",
    "version": 3
   },
   "file_extension": ".py",
   "mimetype": "text/x-python",
   "name": "python",
   "nbconvert_exporter": "python",
   "pygments_lexer": "ipython3",
   "version": "3.11.4"
  },
  "toc": {
   "base_numbering": 1,
   "nav_menu": {},
   "number_sections": true,
   "sideBar": true,
   "skip_h1_title": false,
   "title_cell": "Table of Contents",
   "title_sidebar": "Contents",
   "toc_cell": false,
   "toc_position": {},
   "toc_section_display": true,
   "toc_window_display": false
  },
  "varInspector": {
   "cols": {
    "lenName": 16,
    "lenType": 16,
    "lenVar": 40
   },
   "kernels_config": {
    "python": {
     "delete_cmd_postfix": "",
     "delete_cmd_prefix": "del ",
     "library": "var_list.py",
     "varRefreshCmd": "print(var_dic_list())"
    },
    "r": {
     "delete_cmd_postfix": ") ",
     "delete_cmd_prefix": "rm(",
     "library": "var_list.r",
     "varRefreshCmd": "cat(var_dic_list()) "
    }
   },
   "types_to_exclude": [
    "module",
    "function",
    "builtin_function_or_method",
    "instance",
    "_Feature"
   ],
   "window_display": false
  }
 },
 "nbformat": 4,
 "nbformat_minor": 5
}
