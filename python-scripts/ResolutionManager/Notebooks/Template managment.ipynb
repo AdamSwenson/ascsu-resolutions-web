{
 "cells": [
  {
   "cell_type": "markdown",
   "id": "bfea455f",
   "metadata": {},
   "source": [
    "This contains the tools for publishing a public version of first reading resolutions.\n",
    "\n",
    "This should be used after plenary. \n",
    "\n",
    "It will create a folder inside Google Drive labeled 'For campus feedback' with copies of all first reading resolutions"
   ]
  },
  {
   "cell_type": "markdown",
   "id": "05f632cb",
   "metadata": {},
   "source": [
    "https://developers.google.com/docs/api/quickstart/python"
   ]
  },
  {
   "cell_type": "code",
   "execution_count": null,
   "id": "4d8ea692",
   "metadata": {
    "run_control": {
     "marked": true
    }
   },
   "outputs": [],
   "source": [
    "%cd ~/Dropbox/ResolutionManagerWeb/python-scripts/\n",
    "\n",
    "# from ResolutionManager import environment as env\n",
    "from ResolutionManager.API.CredentialsManager import CredentialsManager\n",
    "from ResolutionManager.Repositories.DocumentRepository import DocumentRepository\n",
    "from ResolutionManager.Repositories.FileRepository import FileRepository\n",
    "from ResolutionManager.Repositories.ResolutionTemplateRespository import ResolutionTemplateRepository\n",
    "from ResolutionManager.Repositories.PermissionsRepository import PermissionsRepository\n",
    "from ResolutionManager.Repositories.StylingRepository import StylingRepository\n",
    "# import ResolutionManager.executables.make_folders_for_plenary as make_folders\n",
    "# import ResolutionManager.executables.web_copy_first_readings_for_feedback as copy_first_reads\n",
    "# import ResolutionManager.executables.create_resolution_from_template as create_resolution\n",
    "from ResolutionManager.Models.Plenaries import Plenary\n",
    "from ResolutionManager.Models.Committees import Committee\n",
    "from ResolutionManager.Models.Resolutions import Resolution\n",
    "import datetime\n",
    "# import environment as env\n",
    "\n",
    "\n",
    "from ResolutionManager.DAO.DAO import MySqlDao\n",
    "from ResolutionManager.Repositories.CommitteeRepository import CommitteeRepository\n",
    "from ResolutionManager.Repositories.PlenaryRepository import PlenaryRepository\n",
    "from ResolutionManager.Repositories.ResolutionRepository import ResolutionRepository\n"
   ]
  },
  {
   "cell_type": "code",
   "execution_count": null,
   "id": "d79f7cd1",
   "metadata": {
    "run_control": {
     "marked": true
    }
   },
   "outputs": [],
   "source": [
    "dao = MySqlDao()\n",
    "committee_repo = CommitteeRepository(dao)\n",
    "plenary_repo = PlenaryRepository(dao)\n",
    "resolution_repo = ResolutionRepository(dao)\n",
    "doc_repo = DocumentRepository()\n",
    "file_repo = FileRepository()\n",
    "style_repo = StylingRepository()"
   ]
  },
  {
   "cell_type": "markdown",
   "id": "b8467c26",
   "metadata": {},
   "source": [
    "# Get document"
   ]
  },
  {
   "cell_type": "code",
   "execution_count": null,
   "id": "c6a450da",
   "metadata": {},
   "outputs": [],
   "source": [
    "templateid = '1V8wRL5HobjyLLlISGAEvJKbVGaJcsCAwiIgNM_-oikc'\n",
    "template = doc_repo.get_document(templateid)"
   ]
  },
  {
   "cell_type": "code",
   "execution_count": null,
   "id": "1eeeb94f",
   "metadata": {},
   "outputs": [],
   "source": []
  },
  {
   "cell_type": "code",
   "execution_count": null,
   "id": "c28cb31c",
   "metadata": {},
   "outputs": [],
   "source": [
    "template"
   ]
  },
  {
   "cell_type": "code",
   "execution_count": null,
   "id": "f909ce01",
   "metadata": {},
   "outputs": [],
   "source": []
  },
  {
   "cell_type": "code",
   "execution_count": null,
   "id": "a7219781",
   "metadata": {},
   "outputs": [],
   "source": []
  },
  {
   "cell_type": "markdown",
   "id": "5319ab39",
   "metadata": {},
   "source": [
    "# Named ranges"
   ]
  },
  {
   "cell_type": "code",
   "execution_count": null,
   "id": "fa025b14",
   "metadata": {},
   "outputs": [],
   "source": [
    "resolution = Resolution(document_id=templateid)\n",
    "style_repo.get_indicies_for_named_range(resolution, 'distributionListRange')\n"
   ]
  },
  {
   "cell_type": "code",
   "execution_count": null,
   "id": "d5b122fe",
   "metadata": {},
   "outputs": [],
   "source": [
    "template['body']['content']"
   ]
  },
  {
   "cell_type": "code",
   "execution_count": null,
   "id": "554e7ce5",
   "metadata": {},
   "outputs": [],
   "source": [
    "template['namedRanges']"
   ]
  },
  {
   "cell_type": "code",
   "execution_count": null,
   "id": "7c1229e3",
   "metadata": {},
   "outputs": [],
   "source": [
    "titleRangeId = 'kix.mief0boal1wa'"
   ]
  },
  {
   "cell_type": "markdown",
   "id": "bc943874",
   "metadata": {},
   "source": [
    "#create named range\n",
    "\n",
    "empty segment id = body\n",
    "\n",
    "'elements': [{'startIndex': 20,\n",
    "       'endIndex': 52,\n",
    "       'textRun': {'content': 'The California State University\\n',\n",
    "        'textStyle': {'bold': True,\n",
    "         'weightedFontFamily': {'fontFamily': 'Atkinson Hyperlegible',\n",
    "          'weight': 400}}}}],"
   ]
  },
  {
   "cell_type": "markdown",
   "id": "ae10f07f",
   "metadata": {},
   "source": [
    "## Add range name to template"
   ]
  },
  {
   "cell_type": "code",
   "execution_count": null,
   "id": "481b2425",
   "metadata": {
    "run_control": {
     "marked": false
    }
   },
   "outputs": [],
   "source": [
    "\n",
    "def add_named_range_to_template(service, template_id, startIndex, endIndex, rangeName ):\n",
    "    change = {\n",
    "        \"createNamedRange\" :{\n",
    "            \"name\": rangeName,\n",
    "            \"range\": {\n",
    "                \"startIndex\": startIndex,\n",
    "                \"endIndex\": endIndex\n",
    "            }\n",
    "        }\n",
    "    }\n",
    "    result = service.documents().batchUpdate(\n",
    "            documentId=template_id, body={'requests': change}).execute()\n"
   ]
  },
  {
   "cell_type": "code",
   "execution_count": null,
   "id": "d990d969",
   "metadata": {},
   "outputs": [],
   "source": []
  },
  {
   "cell_type": "code",
   "execution_count": null,
   "id": "ff252d62",
   "metadata": {},
   "outputs": [],
   "source": []
  },
  {
   "cell_type": "code",
   "execution_count": null,
   "id": "4dfaf016",
   "metadata": {},
   "outputs": [],
   "source": []
  },
  {
   "cell_type": "code",
   "execution_count": null,
   "id": "3d977202",
   "metadata": {},
   "outputs": [],
   "source": []
  },
  {
   "cell_type": "code",
   "execution_count": null,
   "id": "17733b3d",
   "metadata": {
    "deletable": false,
    "editable": false,
    "run_control": {
     "frozen": true
    }
   },
   "outputs": [],
   "source": [
    "template_id = '1V8wRL5HobjyLLlISGAEvJKbVGaJcsCAwiIgNM_-oikc'\n",
    "add_named_range_to_template(doc_repo.service, template_id, 54, 62)"
   ]
  },
  {
   "cell_type": "code",
   "execution_count": null,
   "id": "430e81cc",
   "metadata": {
    "deletable": false,
    "editable": false,
    "run_control": {
     "frozen": true
    }
   },
   "outputs": [],
   "source": [
    "# The Academic Senate....\n",
    "group_name = {'start_index' : 1, 'end_index' : 52, 'name': 'groupName'}\n",
    "add_named_range_to_template(doc_repo.service, templateid, group_name['start_index'], group_name['end_index'], group_name['name'] )"
   ]
  },
  {
   "cell_type": "code",
   "execution_count": null,
   "id": "b421c782",
   "metadata": {
    "deletable": false,
    "editable": false,
    "run_control": {
     "frozen": true
    }
   },
   "outputs": [],
   "source": [
    "dist_list = {'start_index' : 93, 'end_index' : 1290, 'name' : 'distributionListRange'}\n",
    "add_named_range_to_template(doc_repo.service, templateid, dist_list['start_index'], dist_list['end_index'], dist_list['name'] )"
   ]
  },
  {
   "cell_type": "code",
   "execution_count": null,
   "id": "e55386e8",
   "metadata": {
    "deletable": false,
    "editable": false,
    "run_control": {
     "frozen": true
    }
   },
   "outputs": [],
   "source": [
    "rationale = {'start_index' : 1291, 'end_index' : 1310, 'name' : 'rationaleRange'}\n",
    "add_named_range_to_template(doc_repo.service, templateid, rationale['start_index'], rationale['end_index'], rationale['name'] )"
   ]
  },
  {
   "cell_type": "markdown",
   "id": "f44b5181",
   "metadata": {},
   "source": [
    "## Get named range from document"
   ]
  },
  {
   "cell_type": "code",
   "execution_count": null,
   "id": "03529e4b",
   "metadata": {
    "run_control": {
     "marked": true
    }
   },
   "outputs": [],
   "source": [
    "def get_named_ranges(document, titleRangeName=TITLE_RANGE_NAME):\n",
    "    # Find the matching named ranges.\n",
    "    named_range_list = document.get('namedRanges', {}).get(titleRangeName)\n",
    "    if not named_range_list:\n",
    "#         named_range_list = document.get('namedRanges', {})\n",
    "\n",
    "        raise Exception('The named range is no longer present in the document.')\n",
    "\n",
    "    # Determine all the ranges of text to be removed, and at which indices the\n",
    "    # replacement text should be inserted.\n",
    "    all_ranges = []\n",
    "    insert_at = {}\n",
    "    for named_range in named_range_list.get('namedRanges'):\n",
    "        ranges = named_range.get('ranges')\n",
    "\n",
    "        all_ranges.extend(ranges)\n",
    "        # Most named ranges only contain one range of text, but it's possible\n",
    "        # for it to be split into multiple ranges by user edits in the document.\n",
    "        # The replacement text should only be inserted at the start of the first\n",
    "        # range.\n",
    "        insert_at[ranges[0].get('startIndex')] = True\n",
    "\n",
    "    return all_ranges"
   ]
  },
  {
   "cell_type": "code",
   "execution_count": null,
   "id": "2758fe50",
   "metadata": {},
   "outputs": [],
   "source": []
  },
  {
   "cell_type": "code",
   "execution_count": null,
   "id": "b5b26aa9",
   "metadata": {},
   "outputs": [],
   "source": []
  },
  {
   "cell_type": "code",
   "execution_count": null,
   "id": "ad266687",
   "metadata": {},
   "outputs": [],
   "source": []
  },
  {
   "cell_type": "code",
   "execution_count": null,
   "id": "16e7cc3d",
   "metadata": {},
   "outputs": [],
   "source": []
  },
  {
   "cell_type": "code",
   "execution_count": null,
   "id": "e225cf58",
   "metadata": {},
   "outputs": [],
   "source": [
    "#no longer template\n",
    "t = doc_repo.get_document('1eYxyexBr7YtdPP5704hqQgoDEa5v9a5VzPcvkIed-ZY')"
   ]
  },
  {
   "cell_type": "code",
   "execution_count": null,
   "id": "be72bb46",
   "metadata": {},
   "outputs": [],
   "source": [
    "template['namedRanges']"
   ]
  },
  {
   "cell_type": "code",
   "execution_count": null,
   "id": "22fc1347",
   "metadata": {},
   "outputs": [],
   "source": []
  },
  {
   "cell_type": "code",
   "execution_count": null,
   "id": "a86cc08b",
   "metadata": {},
   "outputs": [],
   "source": [
    "get_named_ranges(template)"
   ]
  },
  {
   "cell_type": "code",
   "execution_count": null,
   "id": "6cfeea02",
   "metadata": {},
   "outputs": [],
   "source": [
    "newdoc = doc_repo.get_document('1MlgjsHsGQ9k6SVOAx088sz8FjWFMzw0ZXYJMeIf7NeA')\n",
    "get_named_ranges(newdoc)"
   ]
  },
  {
   "cell_type": "code",
   "execution_count": null,
   "id": "7fc2d74d",
   "metadata": {},
   "outputs": [],
   "source": [
    "newdoc"
   ]
  },
  {
   "cell_type": "code",
   "execution_count": null,
   "id": "e1013dee",
   "metadata": {},
   "outputs": [],
   "source": []
  },
  {
   "cell_type": "code",
   "execution_count": null,
   "id": "74a6f3a2",
   "metadata": {},
   "outputs": [],
   "source": []
  },
  {
   "cell_type": "code",
   "execution_count": null,
   "id": "76e42adb",
   "metadata": {},
   "outputs": [],
   "source": []
  },
  {
   "cell_type": "code",
   "execution_count": null,
   "id": "805e7bee",
   "metadata": {},
   "outputs": [],
   "source": [
    "# footer\n",
    "template.get('footers')"
   ]
  },
  {
   "cell_type": "code",
   "execution_count": null,
   "id": "64568fec",
   "metadata": {},
   "outputs": [],
   "source": []
  },
  {
   "cell_type": "code",
   "execution_count": null,
   "id": "55e7cba5",
   "metadata": {},
   "outputs": [],
   "source": []
  },
  {
   "cell_type": "code",
   "execution_count": null,
   "id": "156c3115",
   "metadata": {},
   "outputs": [],
   "source": []
  },
  {
   "cell_type": "code",
   "execution_count": null,
   "id": "2b0ab296",
   "metadata": {},
   "outputs": [],
   "source": [
    "r = resolution_repo.load_resolution(56)\n",
    "r.__dict__"
   ]
  },
  {
   "cell_type": "code",
   "execution_count": null,
   "id": "e342d13a",
   "metadata": {},
   "outputs": [],
   "source": [
    "r.end_index"
   ]
  },
  {
   "cell_type": "code",
   "execution_count": null,
   "id": "b24e95cc",
   "metadata": {},
   "outputs": [],
   "source": []
  },
  {
   "cell_type": "code",
   "execution_count": null,
   "id": "ace15ceb",
   "metadata": {},
   "outputs": [],
   "source": [
    "# replace title from template"
   ]
  },
  {
   "cell_type": "code",
   "execution_count": null,
   "id": "42842190",
   "metadata": {},
   "outputs": [],
   "source": [
    "def replace_named_title_range(service, document_id, range_name, new_text):\n",
    "    \"\"\"Replaces the text in existing named ranges.\"\"\"\n",
    "\n",
    "    # Determine the length of the replacement text, as UTF-16 code units.\n",
    "    # https://developers.google.com/docs/api/concepts/structure#start_and_end_index\n",
    "    new_text_len = len(new_text.encode('utf-16-le')) / 2\n",
    "\n",
    "    # Fetch the document to determine the current indexes of the named ranges.\n",
    "    document = service.documents().get(documentId=document_id).execute()\n",
    "\n",
    "    # Find the matching named ranges.\n",
    "    named_range_list = document.get('namedRanges', {}).get(range_name)\n",
    "    if not named_range_list:\n",
    "        raise Exception('The named range is no longer present in the document.')\n",
    "\n",
    "    # Determine all the ranges of text to be removed, and at which indices the\n",
    "    # replacement text should be inserted.\n",
    "    all_ranges = []\n",
    "    insert_at = {}\n",
    "    for named_range in named_range_list.get('namedRanges'):\n",
    "        ranges = named_range.get('ranges')\n",
    "        all_ranges.extend(ranges)\n",
    "        # Most named ranges only contain one range of text, but it's possible\n",
    "        # for it to be split into multiple ranges by user edits in the document.\n",
    "        # The replacement text should only be inserted at the start of the first\n",
    "        # range.\n",
    "        insert_at[ranges[0].get('startIndex')] = True\n",
    "\n",
    "    # Sort the list of ranges by startIndex, in descending order.\n",
    "    all_ranges.sort(key=lambda r: r.get('startIndex'), reverse=True)\n",
    "\n",
    "    # Create a sequence of requests for each range.\n",
    "    requests = []\n",
    "    for r in all_ranges:\n",
    "        # Delete all the content in the existing range.\n",
    "        requests.append({\n",
    "            'deleteContentRange': {\n",
    "                'range': r\n",
    "            }\n",
    "        })\n",
    "\n",
    "        segment_id = r.get('segmentId')\n",
    "        start = r.get('startIndex')\n",
    "        if insert_at[start]:\n",
    "            # Insert the replacement text.\n",
    "            requests.append({\n",
    "                'insertText': {\n",
    "                    'location': {\n",
    "                        'segmentId': segment_id,\n",
    "                        'index': start\n",
    "                    },\n",
    "                    'text': new_text\n",
    "                }\n",
    "            })\n",
    "            # Re-create the named range on the new text.\n",
    "            requests.append({\n",
    "                'createNamedRange': {\n",
    "                    'name': range_name,\n",
    "                    'range': {\n",
    "                        'segmentId': segment_id,\n",
    "                        'startIndex': start,\n",
    "                        'endIndex': start + new_text_len\n",
    "                    }\n",
    "                }\n",
    "            })\n",
    "\n",
    "    # Make a batchUpdate request to apply the changes, ensuring the document\n",
    "    # hasn't changed since we fetched it.\n",
    "    body = {\n",
    "        'requests': requests,\n",
    "        'writeControl': {\n",
    "            'requiredRevisionId': document.get('revisionId')\n",
    "        }\n",
    "    }\n",
    "    service.documents().batchUpdate(documentId=document_id, body=body).execute()\n",
    "\n"
   ]
  },
  {
   "cell_type": "code",
   "execution_count": null,
   "id": "6707fc8e",
   "metadata": {},
   "outputs": [],
   "source": [
    "copy_id = '1eYxyexBr7YtdPP5704hqQgoDEa5v9a5VzPcvkIed-ZY'\n",
    "newTitle = \"Dogs are good smelling\""
   ]
  },
  {
   "cell_type": "code",
   "execution_count": null,
   "id": "b7f6d957",
   "metadata": {},
   "outputs": [],
   "source": [
    "replace_named_range(doc_repo.service, copy_id, TITLE_RANGE_NAME, newTitle)\n"
   ]
  },
  {
   "cell_type": "code",
   "execution_count": null,
   "id": "ca0eff65",
   "metadata": {},
   "outputs": [],
   "source": []
  },
  {
   "cell_type": "code",
   "execution_count": null,
   "id": "45a19fe4",
   "metadata": {},
   "outputs": [],
   "source": []
  },
  {
   "cell_type": "code",
   "execution_count": null,
   "id": "12af0f67",
   "metadata": {},
   "outputs": [],
   "source": [
    "t = [1, 3, 5]\n",
    "t[-1:]"
   ]
  },
  {
   "cell_type": "code",
   "execution_count": null,
   "id": "be8efba2",
   "metadata": {},
   "outputs": [],
   "source": []
  },
  {
   "cell_type": "code",
   "execution_count": null,
   "id": "7ea6d572",
   "metadata": {},
   "outputs": [],
   "source": []
  }
 ],
 "metadata": {
  "kernelspec": {
   "display_name": "rezzie-manager",
   "language": "python",
   "name": "rezzie-manager"
  },
  "language_info": {
   "codemirror_mode": {
    "name": "ipython",
    "version": 3
   },
   "file_extension": ".py",
   "mimetype": "text/x-python",
   "name": "python",
   "nbconvert_exporter": "python",
   "pygments_lexer": "ipython3",
   "version": "3.10.12"
  },
  "toc": {
   "base_numbering": 1,
   "nav_menu": {},
   "number_sections": true,
   "sideBar": true,
   "skip_h1_title": false,
   "title_cell": "Table of Contents",
   "title_sidebar": "Contents",
   "toc_cell": false,
   "toc_position": {},
   "toc_section_display": true,
   "toc_window_display": false
  },
  "varInspector": {
   "cols": {
    "lenName": 16,
    "lenType": 16,
    "lenVar": 40
   },
   "kernels_config": {
    "python": {
     "delete_cmd_postfix": "",
     "delete_cmd_prefix": "del ",
     "library": "var_list.py",
     "varRefreshCmd": "print(var_dic_list())"
    },
    "r": {
     "delete_cmd_postfix": ") ",
     "delete_cmd_prefix": "rm(",
     "library": "var_list.r",
     "varRefreshCmd": "cat(var_dic_list()) "
    }
   },
   "types_to_exclude": [
    "module",
    "function",
    "builtin_function_or_method",
    "instance",
    "_Feature"
   ],
   "window_display": false
  }
 },
 "nbformat": 4,
 "nbformat_minor": 5
}
