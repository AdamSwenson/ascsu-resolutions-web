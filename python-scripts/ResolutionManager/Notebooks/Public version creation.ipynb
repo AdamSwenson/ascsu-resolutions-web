{
 "cells": [
  {
   "cell_type": "markdown",
   "id": "bfea455f",
   "metadata": {},
   "source": [
    "This contains the tools for publishing a public version of first reading resolutions.\n",
    "\n",
    "This should be used after plenary. \n",
    "\n",
    "It will create a folder inside Google Drive labeled 'For campus feedback' with copies of all first reading resolutions"
   ]
  },
  {
   "cell_type": "markdown",
   "id": "05f632cb",
   "metadata": {},
   "source": [
    "https://developers.google.com/docs/api/quickstart/python"
   ]
  },
  {
   "cell_type": "code",
   "execution_count": null,
   "id": "4d8ea692",
   "metadata": {
    "run_control": {
     "marked": true
    }
   },
   "outputs": [],
   "source": [
    "%cd ~/Dropbox/ResolutionManagerWeb/python-scripts/ResolutionManager/\n",
    "\n",
    "from ResolutionManager import environment as env\n",
    "from ResolutionManager.API.CredentialsManager import CredentialsManager\n",
    "from ResolutionManager.Repositories.DocumentRepository import DocumentRepository\n",
    "from ResolutionManager.Repositories.FileRepository import FileRepository\n",
    "from ResolutionManager.Repositories.ResolutionTemplateRespository import ResolutionTemplateRepository\n",
    "from ResolutionManager.Repositories.PermissionsRepository import PermissionsRepository\n",
    "# import ResolutionManager.executables.make_folders_for_plenary as make_folders\n",
    "# import ResolutionManager.executables.web_copy_first_readings_for_feedback as copy_first_reads\n",
    "# import ResolutionManager.executables.create_resolution_from_template as create_resolution\n",
    "from ResolutionManager.Models.Plenaries import Plenary\n",
    "from ResolutionManager.Models.Committees import Committee\n",
    "from ResolutionManager.Models.Resolutions import Resolution\n",
    "import datetime\n",
    "# import environment as env\n"
   ]
  },
  {
   "cell_type": "code",
   "execution_count": null,
   "id": "a904edde",
   "metadata": {},
   "outputs": [],
   "source": [
    "from ResolutionManager.DAO.DAO import MySqlDao\n",
    "from ResolutionManager.Repositories.CommitteeRepository import CommitteeRepository\n",
    "from ResolutionManager.Repositories.PlenaryRepository import PlenaryRepository\n",
    "\n",
    "resolution_id = 11\n"
   ]
  },
  {
   "cell_type": "code",
   "execution_count": null,
   "id": "d79f7cd1",
   "metadata": {},
   "outputs": [],
   "source": [
    "dao = MySqlDao()\n",
    "committee_repo = CommitteeRepository(dao)\n",
    "plenary_repo = PlenaryRepository(dao)"
   ]
  },
  {
   "cell_type": "markdown",
   "id": "7bde2b72",
   "metadata": {},
   "source": [
    "# Get document"
   ]
  },
  {
   "cell_type": "code",
   "execution_count": null,
   "id": "c120a1fd",
   "metadata": {},
   "outputs": [],
   "source": [
    "doc_repo = DocumentRepository()"
   ]
  },
  {
   "cell_type": "code",
   "execution_count": null,
   "id": "c4919fe5",
   "metadata": {},
   "outputs": [],
   "source": [
    "doc_repo.get_document('1V8wRL5HobjyLLlISGAEvJKbVGaJcsCAwiIgNM_-oikc')"
   ]
  },
  {
   "cell_type": "code",
   "execution_count": null,
   "id": "a2e7ce39",
   "metadata": {},
   "outputs": [],
   "source": []
  },
  {
   "cell_type": "code",
   "execution_count": null,
   "id": "56bd4f58",
   "metadata": {},
   "outputs": [],
   "source": []
  },
  {
   "cell_type": "code",
   "execution_count": null,
   "id": "9d3f87f9",
   "metadata": {},
   "outputs": [],
   "source": []
  },
  {
   "cell_type": "code",
   "execution_count": null,
   "id": "fa4ea550",
   "metadata": {},
   "outputs": [],
   "source": []
  },
  {
   "cell_type": "code",
   "execution_count": null,
   "id": "3fda38ad",
   "metadata": {},
   "outputs": [],
   "source": [
    "p = plenary_repo.load_plenary(1)"
   ]
  },
  {
   "cell_type": "code",
   "execution_count": null,
   "id": "8f018296",
   "metadata": {},
   "outputs": [],
   "source": [
    "p.month"
   ]
  },
  {
   "cell_type": "code",
   "execution_count": null,
   "id": "8852e522",
   "metadata": {},
   "outputs": [],
   "source": [
    "p.formatted_plenary_date()"
   ]
  },
  {
   "cell_type": "code",
   "execution_count": null,
   "id": "b8bd05df",
   "metadata": {},
   "outputs": [],
   "source": [
    "p.year"
   ]
  },
  {
   "cell_type": "code",
   "execution_count": null,
   "id": "62a8d207",
   "metadata": {},
   "outputs": [],
   "source": [
    "d = datetime.date(2023, 5, 7)\n",
    "d.day +1"
   ]
  },
  {
   "cell_type": "code",
   "execution_count": null,
   "id": "d2e59b38",
   "metadata": {},
   "outputs": [],
   "source": [
    "d.strftime(\"%B\")"
   ]
  },
  {
   "cell_type": "code",
   "execution_count": null,
   "id": "f322d4ba",
   "metadata": {},
   "outputs": [],
   "source": [
    "thursday_date = datetime.date(2023, 5, 7)\n",
    "dao.conn.execute(f\"insert into ascsu.plenaries (thursday_date) values ('{thursday_date}')\")"
   ]
  },
  {
   "cell_type": "code",
   "execution_count": null,
   "id": "909f6c2a",
   "metadata": {},
   "outputs": [],
   "source": [
    "r = dao.conn.execute(\"select * from ascsu.plenaries\").fetchone()\n",
    "r"
   ]
  },
  {
   "cell_type": "code",
   "execution_count": null,
   "id": "6c64a79c",
   "metadata": {},
   "outputs": [],
   "source": [
    "import os\n",
    "cwd = os.getcwd()\n",
    "cwd\n"
   ]
  },
  {
   "cell_type": "code",
   "execution_count": null,
   "id": "2efacfc8",
   "metadata": {
    "run_control": {
     "marked": true
    }
   },
   "outputs": [],
   "source": [
    "resolution_name = \"Opposing the existence of the CO\"\n",
    "resolution_number = 3456\n",
    "committee = Committee('Faculty Affairs', 'FA')\n",
    "cosponsors = [ Committee('Academic Affairs', 'AA')]\n",
    "resolution = Resolution(number=resolution_number, title=resolution_name, committee=committee, cosponsors=cosponsors)\n",
    "\n",
    "plenary = Plenary(thursday_date='2023-01-04',\n",
    "                      first_reading_folder_id='1sv_4BUV5fk6Kcjss8HeSCJWnsLZJVpKC',\n",
    "                  plenary_folder_id='1ITs5N1qpTbqVqAhALrxqSsDwiSKsnSj5'\n",
    "                      )\n",
    "# plenary = Plenary(year=2023,\n",
    "#                       month='September',\n",
    "#                       thursday_date=12,\n",
    "#                       friday_date=14,\n",
    "#                       first_reading_folder_id='1sv_4BUV5fk6Kcjss8HeSCJWnsLZJVpKC',\n",
    "#                   plenary_folder_id='1ITs5N1qpTbqVqAhALrxqSsDwiSKsnSj5'\n",
    "#                       )"
   ]
  },
  {
   "cell_type": "code",
   "execution_count": null,
   "id": "05630989",
   "metadata": {
    "run_control": {
     "marked": true
    }
   },
   "outputs": [],
   "source": [
    "doc_repo = DocumentRepository()\n",
    "file_repo = FileRepository()\n"
   ]
  },
  {
   "cell_type": "code",
   "execution_count": null,
   "id": "9c8caff2",
   "metadata": {
    "run_control": {
     "marked": true
    }
   },
   "outputs": [],
   "source": [
    "committees = [ ('Academic Affairs', 'AA'), ('Academic Prep', 'APEP'), \n",
    "              ('Executive Committee', 'Exec'),('Faculty Affairs', 'FA'), \n",
    "              ('Fiscal and Governmental Affairs', 'FGA'), ('Justice, Equity, Diversity, and Inclusion', 'JEDI')]\n",
    "committees = [Committee(c[0], c[1]) for c in committees]"
   ]
  },
  {
   "cell_type": "code",
   "execution_count": null,
   "id": "c79b027c",
   "metadata": {},
   "outputs": [],
   "source": [
    "k = file_repo.list_files(folder_id=plenary.first_reading_folder_id)\n"
   ]
  },
  {
   "cell_type": "code",
   "execution_count": null,
   "id": "2af91f5f",
   "metadata": {},
   "outputs": [],
   "source": [
    "k"
   ]
  },
  {
   "cell_type": "code",
   "execution_count": null,
   "id": "3e9ada0e",
   "metadata": {},
   "outputs": [],
   "source": []
  },
  {
   "cell_type": "markdown",
   "id": "2836b204",
   "metadata": {},
   "source": [
    "# Build folder structure for plenaries"
   ]
  },
  {
   "cell_type": "code",
   "execution_count": null,
   "id": "0f10b46e",
   "metadata": {
    "deletable": false,
    "editable": false,
    "run_control": {
     "frozen": true
    }
   },
   "outputs": [],
   "source": [
    "make_folders.main(plenary)"
   ]
  },
  {
   "cell_type": "code",
   "execution_count": null,
   "id": "e8f0d251",
   "metadata": {},
   "outputs": [],
   "source": [
    "plenary2 = Plenary(thursday_date='2023-01-23')\n",
    "plenary2 = make_folders.main(plenary2)\n",
    "plenary2.__dict__"
   ]
  },
  {
   "cell_type": "code",
   "execution_count": null,
   "id": "e3e6bfe4",
   "metadata": {},
   "outputs": [],
   "source": []
  },
  {
   "cell_type": "markdown",
   "id": "d240f0dd",
   "metadata": {},
   "source": [
    "# Create resolution"
   ]
  },
  {
   "cell_type": "code",
   "execution_count": null,
   "id": "4e83cf84",
   "metadata": {},
   "outputs": [],
   "source": [
    "plenary = Plenary(id=1, thursday_date='2023-01-23')\n",
    "\n",
    "\n",
    "resolution_name = \"Opposing the existence of the CO\"\n",
    "resolution_number = 3456\n",
    "committee = Committee('Faculty Affairs', 'FA')\n",
    "cosponsors = [ Committee('Academic Affairs', 'AA')]\n",
    "resolution = Resolution(number=resolution_number, title=resolution_name, committee=committee, cosponsors=cosponsors)\n",
    "\n",
    "create_resolution.main(plenary_id=plenary.id, resolution_id=1)"
   ]
  },
  {
   "cell_type": "code",
   "execution_count": null,
   "id": "025b3349",
   "metadata": {},
   "outputs": [],
   "source": []
  },
  {
   "cell_type": "code",
   "execution_count": null,
   "id": "5c1c1fe1",
   "metadata": {},
   "outputs": [],
   "source": [
    "%cd ~/Dropbox/ResolutionManagerWeb/python-scripts/executables/\n",
    "import web_create_resolution_from_template as create_resolution\n"
   ]
  },
  {
   "cell_type": "code",
   "execution_count": null,
   "id": "ade82dfa",
   "metadata": {},
   "outputs": [],
   "source": []
  },
  {
   "cell_type": "code",
   "execution_count": null,
   "id": "fa93a277",
   "metadata": {},
   "outputs": [],
   "source": []
  },
  {
   "cell_type": "code",
   "execution_count": null,
   "id": "50f2c8e6",
   "metadata": {},
   "outputs": [],
   "source": []
  },
  {
   "cell_type": "markdown",
   "id": "64dcf143",
   "metadata": {},
   "source": [
    "# Create public feedback versions"
   ]
  },
  {
   "cell_type": "code",
   "execution_count": null,
   "id": "f7589bff",
   "metadata": {
    "deletable": false,
    "editable": false,
    "run_control": {
     "frozen": true
    }
   },
   "outputs": [],
   "source": [
    "copy_first_reads.main(plenary)"
   ]
  },
  {
   "cell_type": "code",
   "execution_count": null,
   "id": "732893f4",
   "metadata": {},
   "outputs": [],
   "source": [
    "copy_first_reads.main(1)"
   ]
  },
  {
   "cell_type": "code",
   "execution_count": null,
   "id": "5fe6db52",
   "metadata": {},
   "outputs": [],
   "source": []
  },
  {
   "cell_type": "markdown",
   "id": "2c804410",
   "metadata": {},
   "source": [
    "# Permission management"
   ]
  },
  {
   "cell_type": "code",
   "execution_count": null,
   "id": "038c25c8",
   "metadata": {},
   "outputs": [],
   "source": [
    "fid = '1tYVZaK0Naaekhj6f4phj7xF4XVIIn5bUF6aJI6SKSZM' #test 8\n",
    "# fid = '1sv_4BUV5fk6Kcjss8HeSCJWnsLZJVpKC' #first read folder\n",
    "permission_repo = PermissionsRepository()\n"
   ]
  },
  {
   "cell_type": "code",
   "execution_count": null,
   "id": "24c69b2a",
   "metadata": {},
   "outputs": [],
   "source": [
    "# make editable\n",
    "for f in file_repo.list_files(folder_id=plenary.first_reading_folder_id):\n",
    "    permission_repo.make_world_writable(f['id'])"
   ]
  },
  {
   "cell_type": "code",
   "execution_count": null,
   "id": "e1bc4c77",
   "metadata": {},
   "outputs": [],
   "source": [
    "#make readable\n",
    "for f in file_repo.list_files(folder_id=plenary.first_reading_folder_id):\n",
    "    permission_repo.make_world_readable(f['id'])"
   ]
  },
  {
   "cell_type": "code",
   "execution_count": null,
   "id": "6b64634c",
   "metadata": {},
   "outputs": [],
   "source": []
  },
  {
   "cell_type": "code",
   "execution_count": null,
   "id": "68baada7",
   "metadata": {},
   "outputs": [],
   "source": []
  },
  {
   "cell_type": "code",
   "execution_count": null,
   "id": "ae23a4a8",
   "metadata": {},
   "outputs": [],
   "source": []
  },
  {
   "cell_type": "code",
   "execution_count": null,
   "id": "0de477e3",
   "metadata": {},
   "outputs": [],
   "source": []
  },
  {
   "cell_type": "code",
   "execution_count": null,
   "id": "3dd217c0",
   "metadata": {},
   "outputs": [],
   "source": []
  },
  {
   "cell_type": "code",
   "execution_count": null,
   "id": "b9d12987",
   "metadata": {},
   "outputs": [],
   "source": [
    "permission_repo.remove_world_readable(fid)"
   ]
  },
  {
   "cell_type": "code",
   "execution_count": null,
   "id": "79062b24",
   "metadata": {},
   "outputs": [],
   "source": [
    "permission_repo.get_permission(fid)"
   ]
  },
  {
   "cell_type": "code",
   "execution_count": null,
   "id": "e3f7b57a",
   "metadata": {},
   "outputs": [],
   "source": []
  },
  {
   "cell_type": "code",
   "execution_count": null,
   "id": "130b1630",
   "metadata": {},
   "outputs": [],
   "source": []
  },
  {
   "cell_type": "code",
   "execution_count": null,
   "id": "130a8565",
   "metadata": {},
   "outputs": [],
   "source": []
  },
  {
   "cell_type": "code",
   "execution_count": null,
   "id": "6b7be1b4",
   "metadata": {},
   "outputs": [],
   "source": [
    "permission_repo.get_sharing_link(fid)"
   ]
  },
  {
   "cell_type": "code",
   "execution_count": null,
   "id": "57f00469",
   "metadata": {},
   "outputs": [],
   "source": []
  },
  {
   "cell_type": "code",
   "execution_count": null,
   "id": "7b6fecff",
   "metadata": {},
   "outputs": [],
   "source": []
  },
  {
   "cell_type": "code",
   "execution_count": null,
   "id": "f64da1eb",
   "metadata": {},
   "outputs": [],
   "source": []
  },
  {
   "cell_type": "code",
   "execution_count": null,
   "id": "c892294f",
   "metadata": {},
   "outputs": [],
   "source": []
  },
  {
   "cell_type": "code",
   "execution_count": null,
   "id": "ec9817c7",
   "metadata": {},
   "outputs": [],
   "source": []
  },
  {
   "cell_type": "code",
   "execution_count": null,
   "id": "83f34a64",
   "metadata": {},
   "outputs": [],
   "source": []
  },
  {
   "cell_type": "markdown",
   "id": "51a1f790",
   "metadata": {},
   "source": [
    "# display"
   ]
  },
  {
   "cell_type": "code",
   "execution_count": null,
   "id": "8b2841d3",
   "metadata": {
    "run_control": {
     "marked": false
    }
   },
   "outputs": [],
   "source": [
    "from ResolutionManager.Widgets.InputFields import make_text_input, make_selection_button\n",
    "from IPython.display import display\n",
    "from ipywidgets import Layout, widgets, HBox, VBox, Label\n"
   ]
  },
  {
   "cell_type": "code",
   "execution_count": null,
   "id": "9f2f7385",
   "metadata": {},
   "outputs": [],
   "source": [
    "class ControlStore(object):\n",
    "    \n",
    "    def __init__(self):\n",
    "        self.resolution = Resolution()\n",
    "        \n",
    "    @property\n",
    "    def sponsor(self):\n",
    "        return self.resolution.committee\n",
    "    \n",
    "    @sponsor.setter\n",
    "    def sponsor(self, committee):\n",
    "        self.resolution.committee = committee\n",
    "    \n",
    "    @property\n",
    "    def cosponsors(self):\n",
    "        return self.resolution.cosponsors\n",
    "    \n",
    "    @cosponsors.setter\n",
    "    def cosponsors(self, cosponsors):\n",
    "        self.resolution.cosponsors = cosponsors\n",
    "            \n",
    "    @property\n",
    "    def title(self):\n",
    "        return self.resolution.title\n",
    "    \n",
    "    @title.setter\n",
    "    def title(self, title):\n",
    "        self.resolution.title = title\n",
    "\n",
    "    def get_sponsor(self):\n",
    "        return [self.sponsor]\n",
    "\n",
    "    def add_sponsor(self, committee, kwargs):\n",
    "        print('add')\n",
    "        print(committee)\n",
    "        self.sponsor = committee\n",
    "          \n",
    "    def remove_sponsor(self, committee):\n",
    "        print('remove')\n",
    "        print(committee)\n",
    "        self.sponsor =  None\n",
    "        \n",
    "        \n",
    "    def get_cosponsors(self):\n",
    "        return self.cosponsors\n",
    "    \n",
    "    def add_cosponsors(self, co):\n",
    "        self.cosponsors = co\n",
    "        \n",
    "    def remove_cosponsors(self, c):\n",
    "        self.cosponsors = []\n",
    "    \n",
    "store = ControlStore()"
   ]
  },
  {
   "cell_type": "code",
   "execution_count": null,
   "id": "dd907737",
   "metadata": {},
   "outputs": [],
   "source": [
    "# sponsoring_committee = None\n",
    "# def get_sponsor():\n",
    "#     return [sponsoring_committee]\n",
    "\n",
    "# def add_sponsor(committee, kwargs):\n",
    "#     sponsoring_committee = committee, kwargs\n",
    "    \n",
    "# def remove_sponsor(committee):\n",
    "#     print(committee)\n",
    "#     sponsoring_committee = None\n",
    "\n",
    "def make_committee_chooser():\n",
    "    buttons = []\n",
    "    for c in committees:\n",
    "        v = {'item_id' : c, 'name' : c.name, 'get_func' : store.get_sponsor, 'add_func': store.add_sponsor, 'remove_func' : store.remove_sponsor}\n",
    "        buttons.append(make_selection_button(**v))\n",
    "    return buttons\n",
    "\n",
    "def make_cosponsor_chooser():\n",
    "    buttons = []\n",
    "    for c in committees:\n",
    "        v = {'item_id' : c, 'name' : c.name, 'get_func' : store.get_cosponsors, 'add_func': store.add_cosponsors, 'remove_func' : store.remove_cosponsors}\n",
    "        buttons.append(make_selection_button(**v))\n",
    "    return buttons\n",
    "\n",
    "def make_waiver():\n",
    "    return widgets.Checkbox(\n",
    "    value=False,\n",
    "    description='Waiver requested',\n",
    "    disabled=False,\n",
    "    indent=False\n",
    ")\n",
    "\n",
    "def make_create_button():\n",
    "    def callback():\n",
    "        create_resolution.main(plenary=plenary, resolution=store.resolution)\n",
    "        print('click')\n",
    "    layout = widgets.Layout( width='75%' )\n",
    "    b = widgets.Button( description=\"Create resolution\", layout=layout, button_style='danger' )\n",
    "    b.on_click(callback)\n",
    "    return b\n",
    "\n",
    "def make_populate_folders_button():\n",
    "    pass\n"
   ]
  },
  {
   "cell_type": "code",
   "execution_count": null,
   "id": "092657c9",
   "metadata": {},
   "outputs": [],
   "source": [
    "row_layout = Layout( width='100%', padding='10px' )\n",
    "row1 = HBox([Label(\"Resolution title\"), make_text_input({'label': 'Resolution title', 'handler': store.title})], layout=row_layout)\n",
    "row2 = HBox([Label(\"Sponsoring committee\")], layout=row_layout)\n",
    "row3 = VBox(make_committee_chooser(), layout=row_layout)\n",
    "row4 = HBox([Label(\"Cosponsoring committees\")], layout=row_layout)\n",
    "row5 = VBox(make_cosponsor_chooser(), layout=row_layout)\n",
    "row6 = HBox([make_waiver()], layout=row_layout)\n",
    "row7 = VBox([make_create_button()], layout=row_layout)\n",
    "\n",
    "container = VBox([row1, row2, row3, row4, row5, row6, row7], layout=Layout(border='dashed', width='100%'))\n",
    "display(container)\n"
   ]
  },
  {
   "cell_type": "code",
   "execution_count": null,
   "id": "11feab1d",
   "metadata": {},
   "outputs": [],
   "source": [
    "make_action_button()"
   ]
  },
  {
   "cell_type": "code",
   "execution_count": null,
   "id": "733bee58",
   "metadata": {},
   "outputs": [],
   "source": [
    "display(make_action_button())"
   ]
  },
  {
   "cell_type": "code",
   "execution_count": null,
   "id": "538d4915",
   "metadata": {},
   "outputs": [],
   "source": [
    "beep = False\n",
    "def callback(change):\n",
    "    beep =True\n",
    "    print('click')\n",
    "layout = widgets.Layout( width='100%' )\n",
    "b = widgets.Button( description=\"Create resolution\", layout=layout, button_style='danger' )\n",
    "b.on_click(callback)\n",
    "display(b)    "
   ]
  },
  {
   "cell_type": "code",
   "execution_count": null,
   "id": "59973caa",
   "metadata": {},
   "outputs": [],
   "source": [
    "def make_selection_button( item_id, name, get_func, add_func, remove_func, width='50%', **kwargs ):\n"
   ]
  },
  {
   "cell_type": "code",
   "execution_count": null,
   "id": "2662612b",
   "metadata": {},
   "outputs": [],
   "source": [
    "beep"
   ]
  },
  {
   "cell_type": "code",
   "execution_count": null,
   "id": "051394bf",
   "metadata": {},
   "outputs": [],
   "source": [
    "\n"
   ]
  },
  {
   "cell_type": "code",
   "execution_count": null,
   "id": "74f7a283",
   "metadata": {},
   "outputs": [],
   "source": [
    "c.sponsor"
   ]
  },
  {
   "cell_type": "code",
   "execution_count": null,
   "id": "1be761d2",
   "metadata": {},
   "outputs": [],
   "source": []
  }
 ],
 "metadata": {
  "kernelspec": {
   "display_name": "rezzie-manager",
   "language": "python",
   "name": "rezzie-manager"
  },
  "language_info": {
   "codemirror_mode": {
    "name": "ipython",
    "version": 3
   },
   "file_extension": ".py",
   "mimetype": "text/x-python",
   "name": "python",
   "nbconvert_exporter": "python",
   "pygments_lexer": "ipython3",
   "version": "3.10.12"
  },
  "toc": {
   "base_numbering": 1,
   "nav_menu": {},
   "number_sections": true,
   "sideBar": true,
   "skip_h1_title": false,
   "title_cell": "Table of Contents",
   "title_sidebar": "Contents",
   "toc_cell": false,
   "toc_position": {},
   "toc_section_display": true,
   "toc_window_display": false
  },
  "varInspector": {
   "cols": {
    "lenName": 16,
    "lenType": 16,
    "lenVar": 40
   },
   "kernels_config": {
    "python": {
     "delete_cmd_postfix": "",
     "delete_cmd_prefix": "del ",
     "library": "var_list.py",
     "varRefreshCmd": "print(var_dic_list())"
    },
    "r": {
     "delete_cmd_postfix": ") ",
     "delete_cmd_prefix": "rm(",
     "library": "var_list.r",
     "varRefreshCmd": "cat(var_dic_list()) "
    }
   },
   "types_to_exclude": [
    "module",
    "function",
    "builtin_function_or_method",
    "instance",
    "_Feature"
   ],
   "window_display": false
  }
 },
 "nbformat": 4,
 "nbformat_minor": 5
}
