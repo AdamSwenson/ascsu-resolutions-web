{
 "cells": [
  {
   "cell_type": "markdown",
   "id": "bfea455f",
   "metadata": {},
   "source": [
    "This contains the tools for publishing a public version of first reading resolutions.\n",
    "\n",
    "This should be used after plenary. \n",
    "\n",
    "It will create a folder inside Google Drive labeled 'For campus feedback' with copies of all first reading resolutions"
   ]
  },
  {
   "cell_type": "markdown",
   "id": "05f632cb",
   "metadata": {},
   "source": [
    "https://developers.google.com/docs/api/quickstart/python"
   ]
  },
  {
   "cell_type": "code",
   "execution_count": null,
   "id": "4d8ea692",
   "metadata": {
    "run_control": {
     "marked": true
    }
   },
   "outputs": [],
   "source": [
    "%cd ~/Dropbox/ResolutionManagerWeb/python-scripts/\n",
    "\n",
    "# from ResolutionManager import environment as env\n",
    "from ResolutionManager.API.CredentialsManager import CredentialsManager\n",
    "from ResolutionManager.Repositories.DocumentRepository import DocumentRepository\n",
    "from ResolutionManager.Repositories.FileRepository import FileRepository\n",
    "from ResolutionManager.Repositories.ResolutionTemplateRespository import ResolutionTemplateRepository\n",
    "from ResolutionManager.Repositories.PermissionsRepository import PermissionsRepository\n",
    "# import ResolutionManager.executables.make_folders_for_plenary as make_folders\n",
    "# import ResolutionManager.executables.web_copy_first_readings_for_feedback as copy_first_reads\n",
    "# import ResolutionManager.executables.create_resolution_from_template as create_resolution\n",
    "from ResolutionManager.Models.Plenaries import Plenary\n",
    "from ResolutionManager.Models.Committees import Committee\n",
    "from ResolutionManager.Models.Resolutions import Resolution\n",
    "import datetime\n",
    "# import environment as env\n"
   ]
  },
  {
   "cell_type": "code",
   "execution_count": null,
   "id": "a904edde",
   "metadata": {
    "run_control": {
     "marked": true
    }
   },
   "outputs": [],
   "source": [
    "from ResolutionManager.DAO.DAO import MySqlDao\n",
    "from ResolutionManager.Repositories.CommitteeRepository import CommitteeRepository\n",
    "from ResolutionManager.Repositories.PlenaryRepository import PlenaryRepository\n",
    "from ResolutionManager.Repositories.ResolutionRepository import ResolutionRepository\n",
    "resolution_id = 11\n"
   ]
  },
  {
   "cell_type": "code",
   "execution_count": null,
   "id": "d79f7cd1",
   "metadata": {
    "run_control": {
     "marked": true
    }
   },
   "outputs": [],
   "source": [
    "dao = MySqlDao()\n",
    "committee_repo = CommitteeRepository(dao)\n",
    "plenary_repo = PlenaryRepository(dao)\n",
    "resolution_repo = ResolutionRepository(dao)\n",
    "doc_repo = DocumentRepository()\n",
    "file_repo = FileRepository()"
   ]
  },
  {
   "cell_type": "markdown",
   "id": "ed3542be",
   "metadata": {},
   "source": [
    "# Get document"
   ]
  },
  {
   "cell_type": "code",
   "execution_count": null,
   "id": "86f212d9",
   "metadata": {},
   "outputs": [],
   "source": [
    "doc_repo = DocumentRepository()"
   ]
  },
  {
   "cell_type": "code",
   "execution_count": null,
   "id": "ab82f894",
   "metadata": {},
   "outputs": [],
   "source": [
    "doc_repo.get_document('1V8wRL5HobjyLLlISGAEvJKbVGaJcsCAwiIgNM_-oikc')"
   ]
  },
  {
   "cell_type": "code",
   "execution_count": null,
   "id": "1b32b271",
   "metadata": {},
   "outputs": [],
   "source": []
  },
  {
   "cell_type": "markdown",
   "id": "1b990a85",
   "metadata": {},
   "source": [
    "# Named ranges"
   ]
  },
  {
   "cell_type": "code",
   "execution_count": null,
   "id": "5361939f",
   "metadata": {},
   "outputs": [],
   "source": [
    "# test rez id \n",
    "rid = '1XrZTCvSTCOTXnpxGqLAbj0a5EEHuaU_Fo3RdMMYqEqc'\n",
    "document = doc_repo.get_document(rid)"
   ]
  },
  {
   "cell_type": "code",
   "execution_count": null,
   "id": "c0f1411b",
   "metadata": {},
   "outputs": [],
   "source": []
  },
  {
   "cell_type": "code",
   "execution_count": null,
   "id": "41051ef8",
   "metadata": {},
   "outputs": [],
   "source": [
    "document['body']['content']"
   ]
  },
  {
   "cell_type": "code",
   "execution_count": null,
   "id": "73cada11",
   "metadata": {},
   "outputs": [],
   "source": [
    "document['namedRanges']"
   ]
  },
  {
   "cell_type": "code",
   "execution_count": null,
   "id": "ef73ce38",
   "metadata": {},
   "outputs": [],
   "source": [
    "titleRangeId = 'kix.mief0boal1wa'"
   ]
  },
  {
   "cell_type": "markdown",
   "id": "22f9ad72",
   "metadata": {},
   "source": [
    "#create named range\n",
    "\n",
    "empty segment id = body\n",
    "\n",
    "'elements': [{'startIndex': 20,\n",
    "       'endIndex': 52,\n",
    "       'textRun': {'content': 'The California State University\\n',\n",
    "        'textStyle': {'bold': True,\n",
    "         'weightedFontFamily': {'fontFamily': 'Atkinson Hyperlegible',\n",
    "          'weight': 400}}}}],"
   ]
  },
  {
   "cell_type": "markdown",
   "id": "b2195822",
   "metadata": {},
   "source": [
    "## Add range name to template"
   ]
  },
  {
   "cell_type": "code",
   "execution_count": null,
   "id": "82ca80e1",
   "metadata": {
    "run_control": {
     "marked": true
    }
   },
   "outputs": [],
   "source": [
    "TITLE_RANGE_NAME = \"titleRange\"\n",
    "\n",
    "def add_named_range_to_template(service, template_id, startIndex, endIndex, rangeName=TITLE_RANGE_NAME ):\n",
    "    change = {\n",
    "        \"createNamedRange\" :{\n",
    "            \"name\": rangeName,\n",
    "            \"range\": {\n",
    "                \"startIndex\": startIndex,\n",
    "                \"endIndex\": endIndex\n",
    "            }\n",
    "        }\n",
    "    }\n",
    "    result = service.documents().batchUpdate(\n",
    "            documentId=template_id, body={'requests': change}).execute()\n"
   ]
  },
  {
   "cell_type": "code",
   "execution_count": null,
   "id": "807bfb7b",
   "metadata": {
    "deletable": false,
    "editable": false,
    "run_control": {
     "frozen": true
    }
   },
   "outputs": [],
   "source": [
    "template_id = '1V8wRL5HobjyLLlISGAEvJKbVGaJcsCAwiIgNM_-oikc'\n",
    "add_named_range_to_template(doc_repo.service, template_id, 54, 62)"
   ]
  },
  {
   "cell_type": "code",
   "execution_count": null,
   "id": "c8af0004",
   "metadata": {},
   "outputs": [],
   "source": []
  },
  {
   "cell_type": "markdown",
   "id": "b4ce1f7e",
   "metadata": {},
   "source": [
    "## Get named range from document"
   ]
  },
  {
   "cell_type": "code",
   "execution_count": null,
   "id": "dc45c538",
   "metadata": {
    "run_control": {
     "marked": true
    }
   },
   "outputs": [],
   "source": [
    "def get_named_ranges(document, titleRangeName=TITLE_RANGE_NAME):\n",
    "    # Find the matching named ranges.\n",
    "    named_range_list = document.get('namedRanges', {}).get(titleRangeName)\n",
    "    if not named_range_list:\n",
    "        raise Exception('The named range is no longer present in the document.')\n",
    "\n",
    "    # Determine all the ranges of text to be removed, and at which indices the\n",
    "    # replacement text should be inserted.\n",
    "    all_ranges = []\n",
    "    insert_at = {}\n",
    "    for named_range in named_range_list.get('namedRanges'):\n",
    "        ranges = named_range.get('ranges')\n",
    "\n",
    "        all_ranges.extend(ranges)\n",
    "        # Most named ranges only contain one range of text, but it's possible\n",
    "        # for it to be split into multiple ranges by user edits in the document.\n",
    "        # The replacement text should only be inserted at the start of the first\n",
    "        # range.\n",
    "        insert_at[ranges[0].get('startIndex')] = True\n",
    "\n",
    "    return all_ranges"
   ]
  },
  {
   "cell_type": "code",
   "execution_count": null,
   "id": "86d1a599",
   "metadata": {},
   "outputs": [],
   "source": [
    "#no longer template\n",
    "t = doc_repo.get_document('1eYxyexBr7YtdPP5704hqQgoDEa5v9a5VzPcvkIed-ZY')"
   ]
  },
  {
   "cell_type": "code",
   "execution_count": null,
   "id": "dff53929",
   "metadata": {},
   "outputs": [],
   "source": [
    "template['namedRanges']"
   ]
  },
  {
   "cell_type": "code",
   "execution_count": null,
   "id": "d56751c3",
   "metadata": {},
   "outputs": [],
   "source": []
  },
  {
   "cell_type": "code",
   "execution_count": null,
   "id": "3a9d1a47",
   "metadata": {},
   "outputs": [],
   "source": [
    "get_named_ranges(template)"
   ]
  },
  {
   "cell_type": "code",
   "execution_count": null,
   "id": "34fcd5c3",
   "metadata": {},
   "outputs": [],
   "source": [
    "newdoc = doc_repo.get_document('1MlgjsHsGQ9k6SVOAx088sz8FjWFMzw0ZXYJMeIf7NeA')\n",
    "get_named_ranges(newdoc)"
   ]
  },
  {
   "cell_type": "code",
   "execution_count": null,
   "id": "ca170520",
   "metadata": {},
   "outputs": [],
   "source": [
    "newdoc"
   ]
  },
  {
   "cell_type": "code",
   "execution_count": null,
   "id": "78ba504f",
   "metadata": {},
   "outputs": [],
   "source": []
  },
  {
   "cell_type": "code",
   "execution_count": null,
   "id": "34ae024b",
   "metadata": {},
   "outputs": [],
   "source": [
    "# replace title from template"
   ]
  },
  {
   "cell_type": "code",
   "execution_count": null,
   "id": "45450b32",
   "metadata": {},
   "outputs": [],
   "source": [
    "def replace_named_title_range(service, document_id, range_name, new_text):\n",
    "    \"\"\"Replaces the text in existing named ranges.\"\"\"\n",
    "\n",
    "    # Determine the length of the replacement text, as UTF-16 code units.\n",
    "    # https://developers.google.com/docs/api/concepts/structure#start_and_end_index\n",
    "    new_text_len = len(new_text.encode('utf-16-le')) / 2\n",
    "\n",
    "    # Fetch the document to determine the current indexes of the named ranges.\n",
    "    document = service.documents().get(documentId=document_id).execute()\n",
    "\n",
    "    # Find the matching named ranges.\n",
    "    named_range_list = document.get('namedRanges', {}).get(range_name)\n",
    "    if not named_range_list:\n",
    "        raise Exception('The named range is no longer present in the document.')\n",
    "\n",
    "    # Determine all the ranges of text to be removed, and at which indices the\n",
    "    # replacement text should be inserted.\n",
    "    all_ranges = []\n",
    "    insert_at = {}\n",
    "    for named_range in named_range_list.get('namedRanges'):\n",
    "        ranges = named_range.get('ranges')\n",
    "        all_ranges.extend(ranges)\n",
    "        # Most named ranges only contain one range of text, but it's possible\n",
    "        # for it to be split into multiple ranges by user edits in the document.\n",
    "        # The replacement text should only be inserted at the start of the first\n",
    "        # range.\n",
    "        insert_at[ranges[0].get('startIndex')] = True\n",
    "\n",
    "    # Sort the list of ranges by startIndex, in descending order.\n",
    "    all_ranges.sort(key=lambda r: r.get('startIndex'), reverse=True)\n",
    "\n",
    "    # Create a sequence of requests for each range.\n",
    "    requests = []\n",
    "    for r in all_ranges:\n",
    "        # Delete all the content in the existing range.\n",
    "        requests.append({\n",
    "            'deleteContentRange': {\n",
    "                'range': r\n",
    "            }\n",
    "        })\n",
    "\n",
    "        segment_id = r.get('segmentId')\n",
    "        start = r.get('startIndex')\n",
    "        if insert_at[start]:\n",
    "            # Insert the replacement text.\n",
    "            requests.append({\n",
    "                'insertText': {\n",
    "                    'location': {\n",
    "                        'segmentId': segment_id,\n",
    "                        'index': start\n",
    "                    },\n",
    "                    'text': new_text\n",
    "                }\n",
    "            })\n",
    "            # Re-create the named range on the new text.\n",
    "            requests.append({\n",
    "                'createNamedRange': {\n",
    "                    'name': range_name,\n",
    "                    'range': {\n",
    "                        'segmentId': segment_id,\n",
    "                        'startIndex': start,\n",
    "                        'endIndex': start + new_text_len\n",
    "                    }\n",
    "                }\n",
    "            })\n",
    "\n",
    "    # Make a batchUpdate request to apply the changes, ensuring the document\n",
    "    # hasn't changed since we fetched it.\n",
    "    body = {\n",
    "        'requests': requests,\n",
    "        'writeControl': {\n",
    "            'requiredRevisionId': document.get('revisionId')\n",
    "        }\n",
    "    }\n",
    "    service.documents().batchUpdate(documentId=document_id, body=body).execute()\n",
    "\n"
   ]
  },
  {
   "cell_type": "code",
   "execution_count": null,
   "id": "7256f772",
   "metadata": {},
   "outputs": [],
   "source": [
    "copy_id = '1eYxyexBr7YtdPP5704hqQgoDEa5v9a5VzPcvkIed-ZY'\n",
    "newTitle = \"Dogs are good smelling\""
   ]
  },
  {
   "cell_type": "code",
   "execution_count": null,
   "id": "a37b42de",
   "metadata": {},
   "outputs": [],
   "source": [
    "replace_named_range(doc_repo.service, copy_id, TITLE_RANGE_NAME, newTitle)\n"
   ]
  },
  {
   "cell_type": "code",
   "execution_count": null,
   "id": "6751f692",
   "metadata": {},
   "outputs": [],
   "source": []
  },
  {
   "cell_type": "markdown",
   "id": "28476d51",
   "metadata": {},
   "source": [
    "## Read title"
   ]
  },
  {
   "cell_type": "code",
   "execution_count": null,
   "id": "df40a5a9",
   "metadata": {
    "run_control": {
     "marked": true
    }
   },
   "outputs": [],
   "source": [
    "\n",
    "\n",
    "\n",
    "\n",
    "def get_title(document, startIndex):\n",
    "    doc_content = document.get('body').get('content')\n",
    "    title = \"\"\n",
    "    for i in doc_content:\n",
    "        try:\n",
    "            if i['startIndex'] == startIndex:\n",
    "                for e in i['paragraph']['elements']:\n",
    "                    print(e['textRun']['content'])\n",
    "                    title += e['textRun']['content']\n",
    "\n",
    "        except KeyError:\n",
    "            pass\n",
    "    title = title.strip().replace('\\n', '')\n",
    "    return title\n",
    "\n"
   ]
  },
  {
   "cell_type": "code",
   "execution_count": null,
   "id": "42d0f123",
   "metadata": {},
   "outputs": [],
   "source": [
    "docid = \"16Bwqhrn38yU1KATbZ1T3B_5ATMMfXiFgKuqXeUKZlwE\"\n",
    "newdoc = doc_repo.get_document(docid)\n",
    "startIndex = get_named_ranges(newdoc)[0]['startIndex']\n",
    "get_title(newdoc, startIndex)\n"
   ]
  },
  {
   "cell_type": "code",
   "execution_count": null,
   "id": "7bc40a65",
   "metadata": {},
   "outputs": [],
   "source": [
    "# resolution = resolution_repo.load_resolution(28)\n",
    "\n",
    "docid = \"16Bwqhrn38yU1KATbZ1T3B_5ATMMfXiFgKuqXeUKZlwE\"\n",
    "newdoc = doc_repo.get_document(docid)\n",
    "\n",
    "resolution_repo.get_named_ranges(newdoc)"
   ]
  },
  {
   "cell_type": "code",
   "execution_count": null,
   "id": "85cd8ee7",
   "metadata": {},
   "outputs": [],
   "source": [
    "resolution = resolution_repo.load_resolution(30)\n",
    "resolution.document_id\n",
    "resolution_repo.get_current_title_from_drive(resolution)"
   ]
  },
  {
   "cell_type": "markdown",
   "id": "5915414d",
   "metadata": {},
   "source": [
    "### Sync title w db"
   ]
  },
  {
   "cell_type": "code",
   "execution_count": null,
   "id": "136a6451",
   "metadata": {},
   "outputs": [],
   "source": [
    "resolution = resolution_repo.load_resolution(30)\n",
    "\n",
    "resolution_repo.update_title_from_drive_version(resolution)"
   ]
  },
  {
   "cell_type": "code",
   "execution_count": null,
   "id": "65b0988b",
   "metadata": {},
   "outputs": [],
   "source": []
  },
  {
   "cell_type": "code",
   "execution_count": null,
   "id": "96688f18",
   "metadata": {},
   "outputs": [],
   "source": []
  },
  {
   "cell_type": "markdown",
   "id": "073092f0",
   "metadata": {},
   "source": [
    "# Create agenda"
   ]
  },
  {
   "cell_type": "code",
   "execution_count": null,
   "id": "f36a7581",
   "metadata": {},
   "outputs": [],
   "source": [
    "resolutions = []\n",
    "query = f\"select id from ascsu.resolutions\"\n",
    "results = resolution_repo.dao.conn.execute(query)\n",
    "for r in results:\n",
    "    rid = r[0]\n",
    "    sponsor = committee_repo.load_sponsor(rid)\n",
    "    cosponsors = committee_repo.load_cosponsors(rid)\n",
    "    rez = resolution_repo.load_resolution(rid, sponsor, cosponsors)\n",
    "    resolutions.append(rez)\n",
    "resolutions \n",
    "# [Resolution(**r) for r in results]"
   ]
  },
  {
   "cell_type": "code",
   "execution_count": null,
   "id": "9ecd7ea3",
   "metadata": {},
   "outputs": [],
   "source": [
    "resolutions[0].__dict__"
   ]
  },
  {
   "cell_type": "code",
   "execution_count": null,
   "id": "eaedf33e",
   "metadata": {},
   "outputs": [],
   "source": [
    "resolutions[0].url"
   ]
  },
  {
   "cell_type": "code",
   "execution_count": null,
   "id": "c9bba06f",
   "metadata": {},
   "outputs": [],
   "source": [
    "resolutions[0].agenda_item"
   ]
  },
  {
   "cell_type": "code",
   "execution_count": null,
   "id": "35ab08be",
   "metadata": {},
   "outputs": [],
   "source": []
  },
  {
   "cell_type": "code",
   "execution_count": null,
   "id": "2bbe5ed3",
   "metadata": {},
   "outputs": [],
   "source": [
    "plenary_id = 1\n",
    "\n",
    "# Load from database\n",
    "dao = MySqlDao()\n",
    "committee_repo = CommitteeRepository(dao)\n",
    "resolution_repo = ResolutionRepository(dao)\n",
    "plenary_repo = PlenaryRepository(dao)\n",
    "permission_repo = PermissionsRepository()\n",
    "document_repo = DocumentRepository()\n",
    "\n",
    "plenary = plenary_repo.load_plenary(plenary_id)\n",
    "plenary.__dict__"
   ]
  },
  {
   "cell_type": "code",
   "execution_count": null,
   "id": "822ef72d",
   "metadata": {},
   "outputs": [],
   "source": [
    "plenary_id = 1\n",
    "\n",
    "# Load from database\n",
    "dao = MySqlDao()\n",
    "committee_repo = CommitteeRepository(dao)\n",
    "resolution_repo = ResolutionRepository(dao)\n",
    "plenary_repo = PlenaryRepository(dao)\n",
    "permission_repo = PermissionsRepository()\n",
    "document_repo = DocumentRepository()\n",
    "\n",
    "plenary = plenary_repo.load_plenary(plenary_id)\n",
    "\n",
    "# Get all resolutions\n",
    "# For now not going to sync the database, just use title from drive if can be retrieved and default to db version\n",
    "resolutions = resolution_repo.load_all_resolutions()\n",
    "\n",
    "# Create an agenda document\n",
    "fname = f\"{plenary.plenary_folder_name} Agenda\"\n",
    "agenda_id = document_repo.create_file(fname)\n",
    "file_repo.move_file_to_folder(agenda_id, plenary.plenary_folder_id)\n",
    "\n",
    "# maybe should store, that way can update\n",
    "print(agenda_id)\n",
    "\n",
    "idx = 1\n",
    "requests = []\n",
    "\n",
    "text = \"\"\n",
    "try:\n",
    "    for r in resolutions:\n",
    "        text += f\"{r.agenda_item} \\n\" \n",
    "#         text += f\"{r.url}\\n\"\n",
    "except Exception:\n",
    "    print(f\"Error with : {r.__dict__}\")\n",
    "    pass\n",
    "\n",
    "requests.append(    {\n",
    "        'insertText': {\n",
    "            'location': {\n",
    "                'index': idx,\n",
    "            },\n",
    "            'text': text,\n",
    "        }\n",
    "        })\n",
    "        \n",
    "\n",
    "# for r in resolutions:\n",
    "#     try:\n",
    "#         text = f\"{r.agenda_item} \\n\"\n",
    "#         requests.append(    {\n",
    "#         'insertText': {\n",
    "#             'location': {\n",
    "#                 'index': idx,\n",
    "#             },\n",
    "#             'text': text,\n",
    "#         }\n",
    "#         })\n",
    "#         idx += len(text)\n",
    "    \n",
    "        \n",
    "#         requests.append(    {\n",
    "#         'insertText': {\n",
    "#             'location': {\n",
    "#                 'index': idx,\n",
    "#             },\n",
    "#             'text': r.url,\n",
    "#         }\n",
    "#         })\n",
    "        \n",
    "# #         requests.append(\n",
    "# #          {\n",
    "# #              \"updateTextStyle\": {\n",
    "# #                  \"textStyle\": {\n",
    "# #                      \"link\": {\n",
    "# #                          \"url\": r.url\n",
    "# #                      }\n",
    "# #                  },\n",
    "# #                  \"range\": {\n",
    "# #                      \"startIndex\": idx,\n",
    "# #                      \"endIndex\": idx + len(r.url)\n",
    "# #                  },\n",
    "# #                  \"fields\": \"link\"\n",
    "# #              }\n",
    "# #          }\n",
    "# #         )\n",
    "#         idx += len(r.url)\n",
    "\n",
    "#     except Exception:\n",
    "#         pass\n",
    "    \n",
    "# text = [f\"{r.agenda_item} \\n\" for r in resolutions]\n",
    "print(requests)\n",
    "# requests = [\n",
    "#     {\n",
    "#         'insertText': {\n",
    "#             'location': {\n",
    "#                 'index': 1,\n",
    "#             },\n",
    "#             'text': text,\n",
    "#             'url' : resolutions[0].url\n",
    "\n",
    "#         }\n",
    "#     }\n",
    "# ]\n",
    "result = document_repo.service.documents().batchUpdate(documentId=agenda_id, body={'requests': requests}).execute()\n"
   ]
  },
  {
   "cell_type": "code",
   "execution_count": null,
   "id": "d79d319f",
   "metadata": {},
   "outputs": [],
   "source": []
  },
  {
   "cell_type": "code",
   "execution_count": null,
   "id": "795f8903",
   "metadata": {},
   "outputs": [],
   "source": []
  },
  {
   "cell_type": "code",
   "execution_count": null,
   "id": "04f2104f",
   "metadata": {},
   "outputs": [],
   "source": []
  },
  {
   "cell_type": "code",
   "execution_count": null,
   "id": "a10287bc",
   "metadata": {},
   "outputs": [],
   "source": []
  },
  {
   "cell_type": "code",
   "execution_count": null,
   "id": "c22bfff7",
   "metadata": {},
   "outputs": [],
   "source": []
  },
  {
   "cell_type": "code",
   "execution_count": null,
   "id": "e8360502",
   "metadata": {},
   "outputs": [],
   "source": []
  },
  {
   "cell_type": "code",
   "execution_count": null,
   "id": "630da025",
   "metadata": {},
   "outputs": [],
   "source": [
    "committee_repo.load_sponsor(30)"
   ]
  },
  {
   "cell_type": "code",
   "execution_count": null,
   "id": "c552557c",
   "metadata": {},
   "outputs": [],
   "source": [
    "resolution.__dict__"
   ]
  },
  {
   "cell_type": "code",
   "execution_count": null,
   "id": "96ce9f5a",
   "metadata": {},
   "outputs": [],
   "source": []
  },
  {
   "cell_type": "code",
   "execution_count": null,
   "id": "3fda38ad",
   "metadata": {},
   "outputs": [],
   "source": [
    "p = plenary_repo.load_plenary(1)"
   ]
  },
  {
   "cell_type": "code",
   "execution_count": null,
   "id": "8f018296",
   "metadata": {},
   "outputs": [],
   "source": [
    "p.month"
   ]
  },
  {
   "cell_type": "code",
   "execution_count": null,
   "id": "8852e522",
   "metadata": {},
   "outputs": [],
   "source": [
    "p.formatted_plenary_date()"
   ]
  },
  {
   "cell_type": "code",
   "execution_count": null,
   "id": "b8bd05df",
   "metadata": {},
   "outputs": [],
   "source": [
    "p.year"
   ]
  },
  {
   "cell_type": "code",
   "execution_count": null,
   "id": "62a8d207",
   "metadata": {},
   "outputs": [],
   "source": [
    "d = datetime.date(2023, 5, 7)\n",
    "d.day +1"
   ]
  },
  {
   "cell_type": "code",
   "execution_count": null,
   "id": "d2e59b38",
   "metadata": {},
   "outputs": [],
   "source": [
    "d.strftime(\"%B\")"
   ]
  },
  {
   "cell_type": "code",
   "execution_count": null,
   "id": "f322d4ba",
   "metadata": {},
   "outputs": [],
   "source": [
    "thursday_date = datetime.date(2023, 5, 7)\n",
    "dao.conn.execute(f\"insert into ascsu.plenaries (thursday_date) values ('{thursday_date}')\")"
   ]
  },
  {
   "cell_type": "code",
   "execution_count": null,
   "id": "909f6c2a",
   "metadata": {},
   "outputs": [],
   "source": [
    "r = dao.conn.execute(\"select * from ascsu.plenaries\").fetchone()\n",
    "r"
   ]
  },
  {
   "cell_type": "code",
   "execution_count": null,
   "id": "6c64a79c",
   "metadata": {},
   "outputs": [],
   "source": [
    "import os\n",
    "cwd = os.getcwd()\n",
    "cwd\n"
   ]
  },
  {
   "cell_type": "code",
   "execution_count": null,
   "id": "2efacfc8",
   "metadata": {
    "run_control": {
     "marked": true
    }
   },
   "outputs": [],
   "source": [
    "resolution_name = \"Opposing the existence of the CO\"\n",
    "resolution_number = 3456\n",
    "committee = Committee('Faculty Affairs', 'FA')\n",
    "cosponsors = [ Committee('Academic Affairs', 'AA')]\n",
    "resolution = Resolution(number=resolution_number, title=resolution_name, committee=committee, cosponsors=cosponsors)\n",
    "\n",
    "plenary = Plenary(thursday_date='2023-01-04',\n",
    "                      first_reading_folder_id='1sv_4BUV5fk6Kcjss8HeSCJWnsLZJVpKC',\n",
    "                  plenary_folder_id='1ITs5N1qpTbqVqAhALrxqSsDwiSKsnSj5'\n",
    "                      )\n",
    "# plenary = Plenary(year=2023,\n",
    "#                       month='September',\n",
    "#                       thursday_date=12,\n",
    "#                       friday_date=14,\n",
    "#                       first_reading_folder_id='1sv_4BUV5fk6Kcjss8HeSCJWnsLZJVpKC',\n",
    "#                   plenary_folder_id='1ITs5N1qpTbqVqAhALrxqSsDwiSKsnSj5'\n",
    "#                       )"
   ]
  },
  {
   "cell_type": "code",
   "execution_count": null,
   "id": "05630989",
   "metadata": {
    "run_control": {
     "marked": true
    }
   },
   "outputs": [],
   "source": [
    "doc_repo = DocumentRepository()\n",
    "file_repo = FileRepository()\n"
   ]
  },
  {
   "cell_type": "code",
   "execution_count": null,
   "id": "9c8caff2",
   "metadata": {
    "run_control": {
     "marked": true
    }
   },
   "outputs": [],
   "source": [
    "committees = [ ('Academic Affairs', 'AA'), ('Academic Prep', 'APEP'), \n",
    "              ('Executive Committee', 'Exec'),('Faculty Affairs', 'FA'), \n",
    "              ('Fiscal and Governmental Affairs', 'FGA'), ('Justice, Equity, Diversity, and Inclusion', 'JEDI')]\n",
    "committees = [Committee(c[0], c[1]) for c in committees]"
   ]
  },
  {
   "cell_type": "code",
   "execution_count": null,
   "id": "c79b027c",
   "metadata": {},
   "outputs": [],
   "source": [
    "k = file_repo.list_files(folder_id=plenary.first_reading_folder_id)\n"
   ]
  },
  {
   "cell_type": "code",
   "execution_count": null,
   "id": "2af91f5f",
   "metadata": {},
   "outputs": [],
   "source": [
    "k"
   ]
  },
  {
   "cell_type": "code",
   "execution_count": null,
   "id": "3e9ada0e",
   "metadata": {},
   "outputs": [],
   "source": []
  },
  {
   "cell_type": "markdown",
   "id": "2836b204",
   "metadata": {},
   "source": [
    "# Build folder structure for plenaries"
   ]
  },
  {
   "cell_type": "code",
   "execution_count": null,
   "id": "0f10b46e",
   "metadata": {
    "deletable": false,
    "editable": false,
    "run_control": {
     "frozen": true
    }
   },
   "outputs": [],
   "source": [
    "make_folders.main(plenary)"
   ]
  },
  {
   "cell_type": "code",
   "execution_count": null,
   "id": "e8f0d251",
   "metadata": {},
   "outputs": [],
   "source": [
    "plenary2 = Plenary(thursday_date='2023-01-23')\n",
    "plenary2 = make_folders.main(plenary2)\n",
    "plenary2.__dict__"
   ]
  },
  {
   "cell_type": "code",
   "execution_count": null,
   "id": "e3e6bfe4",
   "metadata": {},
   "outputs": [],
   "source": []
  },
  {
   "cell_type": "markdown",
   "id": "d240f0dd",
   "metadata": {},
   "source": [
    "# Create resolution"
   ]
  },
  {
   "cell_type": "code",
   "execution_count": null,
   "id": "4e83cf84",
   "metadata": {},
   "outputs": [],
   "source": [
    "plenary = Plenary(id=1, thursday_date='2023-01-23')\n",
    "\n",
    "\n",
    "resolution_name = \"Opposing the existence of the CO\"\n",
    "resolution_number = 3456\n",
    "committee = Committee('Faculty Affairs', 'FA')\n",
    "cosponsors = [ Committee('Academic Affairs', 'AA')]\n",
    "resolution = Resolution(number=resolution_number, title=resolution_name, committee=committee, cosponsors=cosponsors)\n",
    "\n",
    "create_resolution.main(plenary_id=plenary.id, resolution_id=1)"
   ]
  },
  {
   "cell_type": "code",
   "execution_count": null,
   "id": "025b3349",
   "metadata": {},
   "outputs": [],
   "source": []
  },
  {
   "cell_type": "code",
   "execution_count": null,
   "id": "5d80e133",
   "metadata": {},
   "outputs": [],
   "source": [
    "%cd ~/Dropbox/ResolutionManagerWeb/python-scripts/executables/\n",
    "import web_create_resolution_from_template as create_resolution\n"
   ]
  },
  {
   "cell_type": "code",
   "execution_count": null,
   "id": "13934de8",
   "metadata": {},
   "outputs": [],
   "source": []
  },
  {
   "cell_type": "code",
   "execution_count": null,
   "id": "2536e090",
   "metadata": {},
   "outputs": [],
   "source": []
  },
  {
   "cell_type": "code",
   "execution_count": null,
   "id": "7995d9a1",
   "metadata": {},
   "outputs": [],
   "source": []
  },
  {
   "cell_type": "markdown",
   "id": "64dcf143",
   "metadata": {},
   "source": [
    "# Create public feedback versions"
   ]
  },
  {
   "cell_type": "code",
   "execution_count": null,
   "id": "f7589bff",
   "metadata": {
    "deletable": false,
    "editable": false,
    "run_control": {
     "frozen": true
    }
   },
   "outputs": [],
   "source": [
    "copy_first_reads.main(plenary)"
   ]
  },
  {
   "cell_type": "code",
   "execution_count": null,
   "id": "732893f4",
   "metadata": {},
   "outputs": [],
   "source": [
    "copy_first_reads.main(1)"
   ]
  },
  {
   "cell_type": "code",
   "execution_count": null,
   "id": "5fe6db52",
   "metadata": {},
   "outputs": [],
   "source": []
  },
  {
   "cell_type": "markdown",
   "id": "2c804410",
   "metadata": {},
   "source": [
    "# Permission management"
   ]
  },
  {
   "cell_type": "code",
   "execution_count": null,
   "id": "038c25c8",
   "metadata": {},
   "outputs": [],
   "source": [
    "fid = '1tYVZaK0Naaekhj6f4phj7xF4XVIIn5bUF6aJI6SKSZM' #test 8\n",
    "# fid = '1sv_4BUV5fk6Kcjss8HeSCJWnsLZJVpKC' #first read folder\n",
    "permission_repo = PermissionsRepository()\n"
   ]
  },
  {
   "cell_type": "code",
   "execution_count": null,
   "id": "24c69b2a",
   "metadata": {},
   "outputs": [],
   "source": [
    "# make editable\n",
    "for f in file_repo.list_files(folder_id=plenary.first_reading_folder_id):\n",
    "    permission_repo.make_world_writable(f['id'])"
   ]
  },
  {
   "cell_type": "code",
   "execution_count": null,
   "id": "e1bc4c77",
   "metadata": {},
   "outputs": [],
   "source": [
    "#make readable\n",
    "for f in file_repo.list_files(folder_id=plenary.first_reading_folder_id):\n",
    "    permission_repo.make_world_readable(f['id'])"
   ]
  },
  {
   "cell_type": "code",
   "execution_count": null,
   "id": "6b64634c",
   "metadata": {},
   "outputs": [],
   "source": []
  },
  {
   "cell_type": "code",
   "execution_count": null,
   "id": "68baada7",
   "metadata": {},
   "outputs": [],
   "source": []
  },
  {
   "cell_type": "code",
   "execution_count": null,
   "id": "ae23a4a8",
   "metadata": {},
   "outputs": [],
   "source": []
  },
  {
   "cell_type": "code",
   "execution_count": null,
   "id": "0de477e3",
   "metadata": {},
   "outputs": [],
   "source": []
  },
  {
   "cell_type": "code",
   "execution_count": null,
   "id": "3dd217c0",
   "metadata": {},
   "outputs": [],
   "source": []
  },
  {
   "cell_type": "code",
   "execution_count": null,
   "id": "b9d12987",
   "metadata": {},
   "outputs": [],
   "source": [
    "permission_repo.remove_world_readable(fid)"
   ]
  },
  {
   "cell_type": "code",
   "execution_count": null,
   "id": "79062b24",
   "metadata": {},
   "outputs": [],
   "source": [
    "permission_repo.get_permission(fid)"
   ]
  },
  {
   "cell_type": "code",
   "execution_count": null,
   "id": "e3f7b57a",
   "metadata": {},
   "outputs": [],
   "source": []
  },
  {
   "cell_type": "code",
   "execution_count": null,
   "id": "130b1630",
   "metadata": {},
   "outputs": [],
   "source": []
  },
  {
   "cell_type": "code",
   "execution_count": null,
   "id": "130a8565",
   "metadata": {},
   "outputs": [],
   "source": []
  },
  {
   "cell_type": "code",
   "execution_count": null,
   "id": "6b7be1b4",
   "metadata": {},
   "outputs": [],
   "source": [
    "permission_repo.get_sharing_link(fid)"
   ]
  },
  {
   "cell_type": "code",
   "execution_count": null,
   "id": "57f00469",
   "metadata": {},
   "outputs": [],
   "source": []
  },
  {
   "cell_type": "code",
   "execution_count": null,
   "id": "7b6fecff",
   "metadata": {},
   "outputs": [],
   "source": []
  },
  {
   "cell_type": "code",
   "execution_count": null,
   "id": "f64da1eb",
   "metadata": {},
   "outputs": [],
   "source": []
  },
  {
   "cell_type": "code",
   "execution_count": null,
   "id": "c892294f",
   "metadata": {},
   "outputs": [],
   "source": []
  },
  {
   "cell_type": "code",
   "execution_count": null,
   "id": "ec9817c7",
   "metadata": {},
   "outputs": [],
   "source": []
  },
  {
   "cell_type": "code",
   "execution_count": null,
   "id": "83f34a64",
   "metadata": {},
   "outputs": [],
   "source": []
  },
  {
   "cell_type": "markdown",
   "id": "51a1f790",
   "metadata": {},
   "source": [
    "# display"
   ]
  },
  {
   "cell_type": "code",
   "execution_count": null,
   "id": "8b2841d3",
   "metadata": {
    "run_control": {
     "marked": false
    }
   },
   "outputs": [],
   "source": [
    "from ResolutionManager.Widgets.InputFields import make_text_input, make_selection_button\n",
    "from IPython.display import display\n",
    "from ipywidgets import Layout, widgets, HBox, VBox, Label\n"
   ]
  },
  {
   "cell_type": "code",
   "execution_count": null,
   "id": "9f2f7385",
   "metadata": {},
   "outputs": [],
   "source": [
    "class ControlStore(object):\n",
    "    \n",
    "    def __init__(self):\n",
    "        self.resolution = Resolution()\n",
    "        \n",
    "    @property\n",
    "    def sponsor(self):\n",
    "        return self.resolution.committee\n",
    "    \n",
    "    @sponsor.setter\n",
    "    def sponsor(self, committee):\n",
    "        self.resolution.committee = committee\n",
    "    \n",
    "    @property\n",
    "    def cosponsors(self):\n",
    "        return self.resolution.cosponsors\n",
    "    \n",
    "    @cosponsors.setter\n",
    "    def cosponsors(self, cosponsors):\n",
    "        self.resolution.cosponsors = cosponsors\n",
    "            \n",
    "    @property\n",
    "    def title(self):\n",
    "        return self.resolution.title\n",
    "    \n",
    "    @title.setter\n",
    "    def title(self, title):\n",
    "        self.resolution.title = title\n",
    "\n",
    "    def get_sponsor(self):\n",
    "        return [self.sponsor]\n",
    "\n",
    "    def add_sponsor(self, committee, kwargs):\n",
    "        print('add')\n",
    "        print(committee)\n",
    "        self.sponsor = committee\n",
    "          \n",
    "    def remove_sponsor(self, committee):\n",
    "        print('remove')\n",
    "        print(committee)\n",
    "        self.sponsor =  None\n",
    "        \n",
    "        \n",
    "    def get_cosponsors(self):\n",
    "        return self.cosponsors\n",
    "    \n",
    "    def add_cosponsors(self, co):\n",
    "        self.cosponsors = co\n",
    "        \n",
    "    def remove_cosponsors(self, c):\n",
    "        self.cosponsors = []\n",
    "    \n",
    "store = ControlStore()"
   ]
  },
  {
   "cell_type": "code",
   "execution_count": null,
   "id": "dd907737",
   "metadata": {},
   "outputs": [],
   "source": [
    "# sponsoring_committee = None\n",
    "# def get_sponsor():\n",
    "#     return [sponsoring_committee]\n",
    "\n",
    "# def add_sponsor(committee, kwargs):\n",
    "#     sponsoring_committee = committee, kwargs\n",
    "    \n",
    "# def remove_sponsor(committee):\n",
    "#     print(committee)\n",
    "#     sponsoring_committee = None\n",
    "\n",
    "def make_committee_chooser():\n",
    "    buttons = []\n",
    "    for c in committees:\n",
    "        v = {'item_id' : c, 'name' : c.name, 'get_func' : store.get_sponsor, 'add_func': store.add_sponsor, 'remove_func' : store.remove_sponsor}\n",
    "        buttons.append(make_selection_button(**v))\n",
    "    return buttons\n",
    "\n",
    "def make_cosponsor_chooser():\n",
    "    buttons = []\n",
    "    for c in committees:\n",
    "        v = {'item_id' : c, 'name' : c.name, 'get_func' : store.get_cosponsors, 'add_func': store.add_cosponsors, 'remove_func' : store.remove_cosponsors}\n",
    "        buttons.append(make_selection_button(**v))\n",
    "    return buttons\n",
    "\n",
    "def make_waiver():\n",
    "    return widgets.Checkbox(\n",
    "    value=False,\n",
    "    description='Waiver requested',\n",
    "    disabled=False,\n",
    "    indent=False\n",
    ")\n",
    "\n",
    "def make_create_button():\n",
    "    def callback():\n",
    "        create_resolution.main(plenary=plenary, resolution=store.resolution)\n",
    "        print('click')\n",
    "    layout = widgets.Layout( width='75%' )\n",
    "    b = widgets.Button( description=\"Create resolution\", layout=layout, button_style='danger' )\n",
    "    b.on_click(callback)\n",
    "    return b\n",
    "\n",
    "def make_populate_folders_button():\n",
    "    pass\n"
   ]
  },
  {
   "cell_type": "code",
   "execution_count": null,
   "id": "092657c9",
   "metadata": {},
   "outputs": [],
   "source": [
    "row_layout = Layout( width='100%', padding='10px' )\n",
    "row1 = HBox([Label(\"Resolution title\"), make_text_input({'label': 'Resolution title', 'handler': store.title})], layout=row_layout)\n",
    "row2 = HBox([Label(\"Sponsoring committee\")], layout=row_layout)\n",
    "row3 = VBox(make_committee_chooser(), layout=row_layout)\n",
    "row4 = HBox([Label(\"Cosponsoring committees\")], layout=row_layout)\n",
    "row5 = VBox(make_cosponsor_chooser(), layout=row_layout)\n",
    "row6 = HBox([make_waiver()], layout=row_layout)\n",
    "row7 = VBox([make_create_button()], layout=row_layout)\n",
    "\n",
    "container = VBox([row1, row2, row3, row4, row5, row6, row7], layout=Layout(border='dashed', width='100%'))\n",
    "display(container)\n"
   ]
  },
  {
   "cell_type": "code",
   "execution_count": null,
   "id": "11feab1d",
   "metadata": {},
   "outputs": [],
   "source": [
    "make_action_button()"
   ]
  },
  {
   "cell_type": "code",
   "execution_count": null,
   "id": "733bee58",
   "metadata": {},
   "outputs": [],
   "source": [
    "display(make_action_button())"
   ]
  },
  {
   "cell_type": "code",
   "execution_count": null,
   "id": "538d4915",
   "metadata": {},
   "outputs": [],
   "source": [
    "beep = False\n",
    "def callback(change):\n",
    "    beep =True\n",
    "    print('click')\n",
    "layout = widgets.Layout( width='100%' )\n",
    "b = widgets.Button( description=\"Create resolution\", layout=layout, button_style='danger' )\n",
    "b.on_click(callback)\n",
    "display(b)    "
   ]
  },
  {
   "cell_type": "code",
   "execution_count": null,
   "id": "59973caa",
   "metadata": {},
   "outputs": [],
   "source": [
    "def make_selection_button( item_id, name, get_func, add_func, remove_func, width='50%', **kwargs ):\n"
   ]
  },
  {
   "cell_type": "code",
   "execution_count": null,
   "id": "2662612b",
   "metadata": {},
   "outputs": [],
   "source": [
    "beep"
   ]
  },
  {
   "cell_type": "code",
   "execution_count": null,
   "id": "051394bf",
   "metadata": {},
   "outputs": [],
   "source": [
    "\n"
   ]
  },
  {
   "cell_type": "code",
   "execution_count": null,
   "id": "74f7a283",
   "metadata": {},
   "outputs": [],
   "source": [
    "c.sponsor"
   ]
  },
  {
   "cell_type": "code",
   "execution_count": null,
   "id": "1be761d2",
   "metadata": {},
   "outputs": [],
   "source": []
  }
 ],
 "metadata": {
  "kernelspec": {
   "display_name": "rezzie-manager",
   "language": "python",
   "name": "rezzie-manager"
  },
  "language_info": {
   "codemirror_mode": {
    "name": "ipython",
    "version": 3
   },
   "file_extension": ".py",
   "mimetype": "text/x-python",
   "name": "python",
   "nbconvert_exporter": "python",
   "pygments_lexer": "ipython3",
   "version": "3.10.12"
  },
  "toc": {
   "base_numbering": 1,
   "nav_menu": {},
   "number_sections": true,
   "sideBar": true,
   "skip_h1_title": false,
   "title_cell": "Table of Contents",
   "title_sidebar": "Contents",
   "toc_cell": false,
   "toc_position": {},
   "toc_section_display": true,
   "toc_window_display": false
  },
  "varInspector": {
   "cols": {
    "lenName": 16,
    "lenType": 16,
    "lenVar": 40
   },
   "kernels_config": {
    "python": {
     "delete_cmd_postfix": "",
     "delete_cmd_prefix": "del ",
     "library": "var_list.py",
     "varRefreshCmd": "print(var_dic_list())"
    },
    "r": {
     "delete_cmd_postfix": ") ",
     "delete_cmd_prefix": "rm(",
     "library": "var_list.r",
     "varRefreshCmd": "cat(var_dic_list()) "
    }
   },
   "types_to_exclude": [
    "module",
    "function",
    "builtin_function_or_method",
    "instance",
    "_Feature"
   ],
   "window_display": false
  }
 },
 "nbformat": 4,
 "nbformat_minor": 5
}
