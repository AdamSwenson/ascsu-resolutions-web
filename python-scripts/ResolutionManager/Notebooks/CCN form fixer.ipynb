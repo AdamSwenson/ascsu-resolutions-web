{
 "cells": [
  {
   "cell_type": "code",
   "execution_count": null,
   "id": "6f3c9821",
   "metadata": {},
   "outputs": [],
   "source": [
    "import pandas as pd"
   ]
  },
  {
   "cell_type": "code",
   "execution_count": null,
   "id": "0a585b35",
   "metadata": {},
   "outputs": [],
   "source": [
    "import os\n",
    "ROOT = '%s/Documents/TEMPORARY' % os.getenv(\"HOME\")\n",
    "sourcefile = f'{ROOT}/Common Course Numbering Fall 2024.xlsx'\n",
    "\n",
    "outfile = f\"{ROOT}/Common Course Numbering Fall 2024 Output new.xlsx\""
   ]
  },
  {
   "cell_type": "code",
   "execution_count": null,
   "id": "3910b6a5",
   "metadata": {},
   "outputs": [],
   "source": [
    "data = pd.read_excel(sourcefile)\n",
    "data"
   ]
  },
  {
   "cell_type": "code",
   "execution_count": null,
   "id": "5c96c2aa",
   "metadata": {
    "run_control": {
     "marked": true
    }
   },
   "outputs": [],
   "source": [
    "data.columns"
   ]
  },
  {
   "cell_type": "code",
   "execution_count": null,
   "id": "ec48237f",
   "metadata": {},
   "outputs": [],
   "source": [
    "data.rename({'Course willing to review: Sociology Dates December 2, 3, & 4 1PM - 4PM Survey Appointment Cutoff November 11': 'sociology'}, inplace=True, axis=1)"
   ]
  },
  {
   "cell_type": "code",
   "execution_count": null,
   "id": "7c27a9e6",
   "metadata": {},
   "outputs": [],
   "source": [
    "data"
   ]
  },
  {
   "cell_type": "code",
   "execution_count": null,
   "id": "9ca96783",
   "metadata": {},
   "outputs": [],
   "source": [
    "assert (\"Course willing to review: Sociology Dates December 2, 3, & 4 1PM - 4PM Survey Appointment Cutoff November 11\" in data.columns)"
   ]
  },
  {
   "cell_type": "code",
   "execution_count": null,
   "id": "a0cbcc4f",
   "metadata": {},
   "outputs": [],
   "source": [
    "data[ 'Course willing to review: Anthropology Dates December 2, 3, & 4 1PM - 4PM Survey Appointment Cutoff November 11',]"
   ]
  },
  {
   "cell_type": "code",
   "execution_count": null,
   "id": "0ee8af8a",
   "metadata": {},
   "outputs": [],
   "source": [
    "# ['Id', 'Start time', 'Completion time', 'Email', 'Name', 'Full name',\n",
    "#        'Email1', 'Campus', 'Campus1', 'Discipline',\n",
    " \n",
    "#        'Course willing to review: Anthropology Dates December 2, 3, & 4 1PM - 4PM Survey Appointment Cutoff November 11',\n",
    "#        'Course(s) willing to review: Art History (Can select multiple) Dates October 28, 29, & 30 1PM-4PM Survey Appointment Cutoff October 8',\n",
    "#        'Course willing to review: Astronomy Dates November 18, 19, 20 & 21 1PM-4PM Survey Appointment Cutoff October 26',\n",
    "#        'Course(s) willing to review: Biology (Can select multiple) Dates November 18, 19, 20 & 21 1PM-4PM Survey Appointment Cutoff October 26',\n",
    "#        'Course(s) willing to review: Chemistry (Can select multiple) Dates November 18, 19, 20 & 21 1PM-4PM Survey Appointment Cutoff October 26',\n",
    "#        'Course willing to review: Child Development Dates December 2, 3, & 4 1PM - 4PM Survey Appointment Cutoff November 11',\n",
    "#        'Course willing to review: Communication Studies Dates December 2, 3, & 4 1PM - 4PM Survey Appointment Cutoff November 11',\n",
    "#        'Course(s) willing to review: Economics (Can select multiple) Dates October 28, 29, & 30 1PM-4PM Survey Appointment Cutoff October 8',\n",
    "#        'Course(s) willing to review: English (Can select multiple) Dates October 28, 29, & 30 1PM-4PM Survey Appointment Cutoff October 8',\n",
    "#        'Course(s) willing to review: History (Can select multiple) Dates October 28, 29, & 30 1PM-4PM Survey Appointment Cutoff October 8',\n",
    "#        'Course(s) willing to review: Math (Can select multiple) Dates November 18, 19, 20 & 21 1PM-4PM Survey Appointment Cutoff October 26',\n",
    "#        'Course willing to review: Sociology Dates December 2, 3, & 4 1PM - 4PM Survey Appointment Cutoff November 11',\n",
    " \n",
    "#  'Confirm availability to meet virtually on the designated dates for the courses to be reviewed',\n",
    "#        'Statement of Interest or Qualifications'],\n",
    "#       dtype='object')\n",
    "\n",
    "to_drop = ['Id',\n",
    "           'Campus1',\n",
    " 'Start time',\n",
    " 'Completion time',\n",
    " 'Email',\n",
    " 'Name']\n",
    "\n",
    "course_columns = [\n",
    "    'Anthropology', 'Art History', 'Astronomy',\n",
    "       'Biology', 'Chemistry', 'Child Development', 'Communication Studies',\n",
    "       'Economics', 'English', 'History', 'Math', 'Sociology',]\n",
    "    \n",
    "#     'Course willing to review: Anthropology Dates December 2, 3, & 4 1PM - 4PM Survey Appointment Cutoff November 11',\n",
    "#        'Course(s) willing to review: Art History (Can select multiple) Dates October 28, 29, & 30 1PM-4PM Survey Appointment Cutoff October 8',\n",
    "#        'Course willing to review: Astronomy Dates November 18, 19, 20 & 21 1PM-4PM Survey Appointment Cutoff October 26',\n",
    "#        'Course(s) willing to review: Biology (Can select multiple) Dates November 18, 19, 20 & 21 1PM-4PM Survey Appointment Cutoff October 26',\n",
    "#        'Course(s) willing to review: Chemistry (Can select multiple) Dates November 18, 19, 20 & 21 1PM-4PM Survey Appointment Cutoff October 26',\n",
    "#        'Course willing to review: Child Development Dates December 2, 3, & 4 1PM - 4PM Survey Appointment Cutoff November 11',\n",
    "#        'Course willing to review: Communication Studies Dates December 2, 3, & 4 1PM - 4PM Survey Appointment Cutoff November 11',\n",
    "#        'Course(s) willing to review: Economics (Can select multiple) Dates October 28, 29, & 30 1PM-4PM Survey Appointment Cutoff October 8',\n",
    "#        'Course(s) willing to review: English (Can select multiple) Dates October 28, 29, & 30 1PM-4PM Survey Appointment Cutoff October 8',\n",
    "#        'Course(s) willing to review: History (Can select multiple) Dates October 28, 29, & 30 1PM-4PM Survey Appointment Cutoff October 8',\n",
    "#        'Course(s) willing to review: Math (Can select multiple) Dates November 18, 19, 20 & 21 1PM-4PM Survey Appointment Cutoff October 26',\n",
    "#        'Course willing to review: Sociology Dates December 2, 3, & 4 1PM - 4PM Survey Appointment Cutoff November 11',]\n",
    "\n",
    "# course_columns =['Course willing to review: Anthropology Dates December 2, 3, & 4 1PM - 4PM Survey Appointment Cutoff November 11',\n",
    "#        'Course(s) willing to review: Art History (Can select multiple) Dates October 28, 29, & 30 1PM-4PM Survey Appointment Cutoff October 8',\n",
    "#        'Course willing to review: Astronomy Dates November 18, 19, 20 & 21 1PM-4PM Survey Appointment Cutoff October 26',\n",
    "#        'Course(s) willing to review: Biology (Can select multiple) Dates November 18, 19, 20 & 21 1PM-4PM Survey Appointment Cutoff October 26',\n",
    "#        'Course(s) willing to review: Chemistry (Can select multiple) Dates November 18, 19, 20 & 21 1PM-4PM Survey Appointment Cutoff October 26',\n",
    "#        'Course willing to review: Child Development Dates December 2, 3, & 4 1PM - 4PM Survey Appointment Cutoff November 11',\n",
    "#        'Course willing to review: Communication Studies Dates December 2, 3, & 4 1PM - 4PM Survey Appointment Cutoff November 11',\n",
    "#        'Course(s) willing to review: Economics (Can select multiple) Dates October 28, 29, & 30 1PM-4PM Survey Appointment Cutoff October 8',\n",
    "#        'Course(s) willing to review: English (Can select multiple) Dates October 28, 29, & 30 1PM-4PM Survey Appointment Cutoff October 8',\n",
    "#        'Course(s) willing to review: History (Can select multiple) Dates October 28, 29, & 30 1PM-4PM Survey Appointment Cutoff October 8',\n",
    "#        'Course(s) willing to review: Math (Can select multiple) Dates November 18, 19, 20 & 21 1PM-4PM Survey Appointment Cutoff October 26',\n",
    "#        'Course willing to review: Sociology Dates December 2, 3, & 4 1PM - 4PM Survey Appointment Cutoff November 11',]\n"
   ]
  },
  {
   "cell_type": "code",
   "execution_count": null,
   "id": "0882bc9a",
   "metadata": {},
   "outputs": [],
   "source": [
    "data['Course willing to review: Anthropology Dates December 2, 3, & 4 1PM - 4PM Survey Appointment Cutoff November 11']\n"
   ]
  },
  {
   "cell_type": "code",
   "execution_count": null,
   "id": "490d8e34",
   "metadata": {},
   "outputs": [],
   "source": [
    "# data = pd.read_excel(sourcefile)\n",
    "# data.drop(to_drop, axis=1, inplace=True)\n",
    "data[:5]"
   ]
  },
  {
   "cell_type": "code",
   "execution_count": null,
   "id": "5a98b338",
   "metadata": {},
   "outputs": [],
   "source": [
    "data.columns"
   ]
  },
  {
   "cell_type": "code",
   "execution_count": null,
   "id": "509bed04",
   "metadata": {},
   "outputs": [],
   "source": [
    "not_class =[ \n",
    "'Id', 'Start time', 'Completion time', 'Email', 'Name', 'Full name',\n",
    "       'Email1', 'Campus', 'Campus1', 'Discipline',\n",
    " 'Confirm availability to meet virtually on the designated dates for the courses to be reviewed',\n",
    "       'Statement of Interest or Qualifications']"
   ]
  },
  {
   "cell_type": "code",
   "execution_count": null,
   "id": "1f8268bd",
   "metadata": {},
   "outputs": [],
   "source": []
  },
  {
   "cell_type": "code",
   "execution_count": null,
   "id": "faba97f3",
   "metadata": {},
   "outputs": [],
   "source": [
    "def split_field(field):\n",
    "    \"\"\"Returns a list of all courses in the field with no semicolon\n",
    "    >>>c = 'Art History: Survey of Western Art from Renaissance to Contemporary†(C-ID ARTH 120);Art History: Survey of Western Art for Prehistory through the Middle Ages†(C-ID ARTH 110);'\n",
    "    >>>r = split_field(c)\n",
    "    >>>assert(r == ['Art History: Survey of Western Art from Renaissance to Contemporary†(C-ID ARTH 120)', 'Art History: Survey of Western Art for Prehistory through the Middle Ages†(C-ID ARTH 110)'])\n",
    "    \"\"\"\n",
    "    if isinstance(field, str) and not pd.isnull(field):\n",
    "        return [a for a in field.split(';') if len(a)>0]\n",
    "\n",
    "c = 'Art History: Survey of Western Art from Renaissance to Contemporary†(C-ID ARTH 120);Art History: Survey of Western Art for Prehistory through the Middle Ages†(C-ID ARTH 110);'\n",
    "r = split_field(c)\n",
    "assert(r == ['Art History: Survey of Western Art from Renaissance to Contemporary†(C-ID ARTH 120)', 'Art History: Survey of Western Art for Prehistory through the Middle Ages†(C-ID ARTH 110)'])"
   ]
  },
  {
   "cell_type": "code",
   "execution_count": null,
   "id": "ab628734",
   "metadata": {},
   "outputs": [],
   "source": [
    "# Build list of courses\n",
    "all_fields = []\n",
    "for c in data.columns:\n",
    "# for c in course_columns:\n",
    "    all_fields.extend(data[c])\n",
    "    print(c)\n",
    "all_fields = list(set([a for a in all_fields if not pd.isnull(a)]))\n",
    "all_fields\n",
    "courses = []\n",
    "for c in all_fields:\n",
    "    courses.extend(split_field(c))\n",
    "\n",
    "# courses"
   ]
  },
  {
   "cell_type": "code",
   "execution_count": null,
   "id": "d6690396",
   "metadata": {},
   "outputs": [],
   "source": [
    "courses"
   ]
  },
  {
   "cell_type": "code",
   "execution_count": null,
   "id": "fb590568",
   "metadata": {},
   "outputs": [],
   "source": [
    "def is_course_in_field(row, row_name, course):\n",
    "    \"\"\"\n",
    "    Returns true if course is in the given field; false otherwise\n",
    "    \n",
    "    >>>row = {'rowname' : 'Biology: Human Anatomy with Lab (C-ID BIOL 110 B);Biology: Human Physiology with Lab (C-ID BIOL 120 B);Biology: General Survey Biology Course (No Lab)†(No C-ID);'}\n",
    "    >>>course = 'Biology: Human Physiology with Lab (C-ID BIOL 120 B)'\n",
    "    >>>assert(is_course_in_field(row, 'rowname', course) is True)\n",
    "    \"\"\"\n",
    "    s = split_field(row[row_name])\n",
    "    if s is None: return False\n",
    "    if len(s) == 0: return False\n",
    "    return course in s\n",
    "    \n",
    "\n",
    "row = {'rowname' : 'Biology: Human Anatomy with Lab (C-ID BIOL 110 B);Biology: Human Physiology with Lab (C-ID BIOL 120 B);Biology: General Survey Biology Course (No Lab)†(No C-ID);'}\n",
    "course = 'Biology: Human Physiology with Lab (C-ID BIOL 120 B)'\n",
    "assert(is_course_in_field(row, 'rowname', course) is True)"
   ]
  },
  {
   "cell_type": "code",
   "execution_count": null,
   "id": "2f6ea5bc",
   "metadata": {},
   "outputs": [],
   "source": [
    "out = []\n",
    "for ix, row in data.iterrows():\n",
    "#     print(row['Full name'])\n",
    "    o = {\n",
    "        'name' : row['Full name'],\n",
    "        'email': row['Email1'], \n",
    "        'campus': row['Campus'], \n",
    "        'discipline': row['Discipline'], \n",
    "        'statement' : row['Statement of Interest or Qualifications']\n",
    "    }\n",
    "    for fname in course_columns:\n",
    "        for c in courses:\n",
    "            r = is_course_in_field(row, fname, c)\n",
    "            if r is True:\n",
    "                o[c] = is_course_in_field(row, fname, c)\n",
    "    out.append(o)\n",
    "out = pd.DataFrame(out)"
   ]
  },
  {
   "cell_type": "code",
   "execution_count": null,
   "id": "6fef3836",
   "metadata": {},
   "outputs": [],
   "source": [
    "out"
   ]
  },
  {
   "cell_type": "code",
   "execution_count": null,
   "id": "aabfdef9",
   "metadata": {},
   "outputs": [],
   "source": [
    "out.to_excel(outfile)"
   ]
  },
  {
   "cell_type": "code",
   "execution_count": null,
   "id": "15a247b5",
   "metadata": {},
   "outputs": [],
   "source": []
  },
  {
   "cell_type": "code",
   "execution_count": null,
   "id": "57466de7",
   "metadata": {},
   "outputs": [],
   "source": []
  },
  {
   "cell_type": "markdown",
   "id": "5a9b9925",
   "metadata": {},
   "source": [
    "# Attic ==========================="
   ]
  },
  {
   "cell_type": "code",
   "execution_count": null,
   "id": "139dd320",
   "metadata": {},
   "outputs": [],
   "source": [
    "data['Course willing to review: Art History†(Can select multiple)'].tolist()"
   ]
  },
  {
   "cell_type": "code",
   "execution_count": null,
   "id": "6edbd28b",
   "metadata": {},
   "outputs": [],
   "source": [
    "data.loc[0]['Course willing to review: Anthropology']"
   ]
  },
  {
   "cell_type": "code",
   "execution_count": null,
   "id": "f3ccdc92",
   "metadata": {},
   "outputs": [],
   "source": [
    "d = data.loc[0]\n",
    "d"
   ]
  },
  {
   "cell_type": "code",
   "execution_count": null,
   "id": "541e95f6",
   "metadata": {},
   "outputs": [],
   "source": [
    "d = data.loc[0]\n",
    "o = {c : None for c in courses}\n",
    "# o = {\n",
    "#     'name' : d['Full name']\n",
    "# }\n",
    "for fname in course_columns:\n",
    "    for c in courses:\n",
    "        print(f\"\\n-------\\n{fname}\\n{c}\\n{d[fname]}\\n{is_course_in_field(d, fname, c)}\\n\")\n",
    "        r = is_course_in_field(d, fname, c)\n",
    "        if r is True:\n",
    "            o[c] = is_course_in_field(d, fname, c)\n",
    "\n",
    "#             o[c] = is_course_in_field(r, 'Course willing to review: Art History†(Can select multiple)', c)\n",
    "# o"
   ]
  },
  {
   "cell_type": "code",
   "execution_count": null,
   "id": "8ad42a4a",
   "metadata": {},
   "outputs": [],
   "source": [
    "o"
   ]
  },
  {
   "cell_type": "code",
   "execution_count": null,
   "id": "52fa852e",
   "metadata": {},
   "outputs": [],
   "source": [
    "d"
   ]
  },
  {
   "cell_type": "code",
   "execution_count": null,
   "id": "eb8304ca",
   "metadata": {},
   "outputs": [],
   "source": [
    "fname= 'Course willing to review: Art History†(Can select multiple)'\n",
    "# c ='Art History: Survey of Western Art for Prehistory through the Middle Ages†(C-ID ARTH 110)' \n",
    "c = 'Astronomy: Astronomy with Lab†(No C-ID)'\n",
    "\n",
    "is_course_in_field(d, fname, c)"
   ]
  },
  {
   "cell_type": "code",
   "execution_count": null,
   "id": "2ffb447e",
   "metadata": {},
   "outputs": [],
   "source": []
  },
  {
   "cell_type": "code",
   "execution_count": null,
   "id": "589ecf73",
   "metadata": {},
   "outputs": [],
   "source": [
    "out"
   ]
  },
  {
   "cell_type": "code",
   "execution_count": null,
   "id": "e277503e",
   "metadata": {},
   "outputs": [],
   "source": []
  },
  {
   "cell_type": "code",
   "execution_count": null,
   "id": "13344f99",
   "metadata": {},
   "outputs": [],
   "source": []
  }
 ],
 "metadata": {
  "kernelspec": {
   "display_name": "rezzie-manager",
   "language": "python",
   "name": "rezzie-manager"
  },
  "language_info": {
   "codemirror_mode": {
    "name": "ipython",
    "version": 3
   },
   "file_extension": ".py",
   "mimetype": "text/x-python",
   "name": "python",
   "nbconvert_exporter": "python",
   "pygments_lexer": "ipython3",
   "version": "3.10.14"
  },
  "toc": {
   "base_numbering": 1,
   "nav_menu": {},
   "number_sections": true,
   "sideBar": true,
   "skip_h1_title": false,
   "title_cell": "Table of Contents",
   "title_sidebar": "Contents",
   "toc_cell": false,
   "toc_position": {},
   "toc_section_display": true,
   "toc_window_display": false
  },
  "varInspector": {
   "cols": {
    "lenName": 16,
    "lenType": 16,
    "lenVar": 40
   },
   "kernels_config": {
    "python": {
     "delete_cmd_postfix": "",
     "delete_cmd_prefix": "del ",
     "library": "var_list.py",
     "varRefreshCmd": "print(var_dic_list())"
    },
    "r": {
     "delete_cmd_postfix": ") ",
     "delete_cmd_prefix": "rm(",
     "library": "var_list.r",
     "varRefreshCmd": "cat(var_dic_list()) "
    }
   },
   "types_to_exclude": [
    "module",
    "function",
    "builtin_function_or_method",
    "instance",
    "_Feature"
   ],
   "window_display": false
  }
 },
 "nbformat": 4,
 "nbformat_minor": 5
}
