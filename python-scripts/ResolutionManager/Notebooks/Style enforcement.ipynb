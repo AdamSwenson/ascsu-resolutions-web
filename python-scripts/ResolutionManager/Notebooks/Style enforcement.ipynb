{
 "cells": [
  {
   "cell_type": "code",
   "execution_count": null,
   "id": "74ab656b",
   "metadata": {},
   "outputs": [],
   "source": [
    "%cd ~/Dropbox/ResolutionManagerWeb/python-scripts/\n",
    "\n",
    "# from ResolutionManager import environment as env\n",
    "from ResolutionManager.API.CredentialsManager import CredentialsManager\n",
    "from ResolutionManager.Repositories.DocumentRepository import DocumentRepository\n",
    "from ResolutionManager.Repositories.FileRepository import FileRepository\n",
    "from ResolutionManager.Repositories.ResolutionTemplateRespository import ResolutionTemplateRepository\n",
    "from ResolutionManager.Repositories.PermissionsRepository import PermissionsRepository\n",
    "# import ResolutionManager.executables.make_folders_for_plenary as make_folders\n",
    "# import ResolutionManager.executables.web_copy_first_readings_for_feedback as copy_first_reads\n",
    "# import ResolutionManager.executables.create_resolution_from_template as create_resolution\n",
    "from ResolutionManager.Models.Plenaries import Plenary\n",
    "from ResolutionManager.Models.Committees import Committee\n",
    "from ResolutionManager.Models.Resolutions import Resolution\n",
    "import datetime\n",
    "# import environment as env\n",
    "\n",
    "from ResolutionManager.DAO.DAO import MySqlDao\n",
    "from ResolutionManager.Repositories.CommitteeRepository import CommitteeRepository\n",
    "from ResolutionManager.Repositories.PlenaryRepository import PlenaryRepository\n",
    "from ResolutionManager.Repositories.ResolutionRepository import ResolutionRepository\n",
    "resolution_id = 11\n",
    "\n",
    "dao = MySqlDao()\n",
    "committee_repo = CommitteeRepository(dao)\n",
    "plenary_repo = PlenaryRepository(dao)\n",
    "resolution_repo = ResolutionRepository(dao)\n",
    "doc_repo = DocumentRepository()\n",
    "file_repo = FileRepository()"
   ]
  },
  {
   "cell_type": "code",
   "execution_count": null,
   "id": "992ce933",
   "metadata": {},
   "outputs": [],
   "source": [
    "docid = '1Mc3L3DgCxZ9hOCbBnzAMogWybZvpAX2V5w1mc5nBppk'\n",
    "doc = doc_repo.get_document(docid)"
   ]
  },
  {
   "cell_type": "code",
   "execution_count": null,
   "id": "5e536f39",
   "metadata": {},
   "outputs": [],
   "source": [
    "def get_end_index(document):\n",
    "    body = document.get('body').get('content')\n",
    "    return body[len(body) - 1]['endIndex']\n",
    "\n",
    "get_end_index(doc)"
   ]
  },
  {
   "cell_type": "code",
   "execution_count": null,
   "id": "af43989b",
   "metadata": {},
   "outputs": [],
   "source": [
    "doc"
   ]
  },
  {
   "cell_type": "code",
   "execution_count": null,
   "id": "04195092",
   "metadata": {},
   "outputs": [],
   "source": [
    "startIndex = 1\n",
    "endIndex = get_end_index(doc)\n",
    "requests = [{\n",
    "    'updateTextStyle': {\n",
    "                'range': {\n",
    "                    'startIndex':startIndex,\n",
    "                    'endIndex': endIndex\n",
    "                },\n",
    "                'textStyle': {\n",
    "                    'weightedFontFamily': {\n",
    "                        'fontFamily':  'Atkinson Hyperlegible'\n",
    "\n",
    "                    },\n",
    "                    'fontSize': {\n",
    "                        'magnitude': 12,\n",
    "                        'unit': 'PT'\n",
    "                    },\n",
    "                },\n",
    "                        'fields': 'weightedFontFamily,fontSize'\n",
    "\n",
    "    }\n",
    "}\n",
    "]"
   ]
  },
  {
   "cell_type": "code",
   "execution_count": null,
   "id": "21a00493",
   "metadata": {},
   "outputs": [],
   "source": [
    "doc_repo.service.documents().batchUpdate(\n",
    "            documentId=docid, body={'requests': requests}).execute()\n"
   ]
  },
  {
   "cell_type": "code",
   "execution_count": null,
   "id": "597f3efa",
   "metadata": {},
   "outputs": [],
   "source": []
  }
 ],
 "metadata": {
  "kernelspec": {
   "display_name": "rezzie-manager",
   "language": "python",
   "name": "rezzie-manager"
  },
  "language_info": {
   "codemirror_mode": {
    "name": "ipython",
    "version": 3
   },
   "file_extension": ".py",
   "mimetype": "text/x-python",
   "name": "python",
   "nbconvert_exporter": "python",
   "pygments_lexer": "ipython3",
   "version": "3.10.12"
  },
  "toc": {
   "base_numbering": 1,
   "nav_menu": {},
   "number_sections": true,
   "sideBar": true,
   "skip_h1_title": false,
   "title_cell": "Table of Contents",
   "title_sidebar": "Contents",
   "toc_cell": false,
   "toc_position": {},
   "toc_section_display": true,
   "toc_window_display": false
  },
  "varInspector": {
   "cols": {
    "lenName": 16,
    "lenType": 16,
    "lenVar": 40
   },
   "kernels_config": {
    "python": {
     "delete_cmd_postfix": "",
     "delete_cmd_prefix": "del ",
     "library": "var_list.py",
     "varRefreshCmd": "print(var_dic_list())"
    },
    "r": {
     "delete_cmd_postfix": ") ",
     "delete_cmd_prefix": "rm(",
     "library": "var_list.r",
     "varRefreshCmd": "cat(var_dic_list()) "
    }
   },
   "types_to_exclude": [
    "module",
    "function",
    "builtin_function_or_method",
    "instance",
    "_Feature"
   ],
   "window_display": false
  }
 },
 "nbformat": 4,
 "nbformat_minor": 5
}
