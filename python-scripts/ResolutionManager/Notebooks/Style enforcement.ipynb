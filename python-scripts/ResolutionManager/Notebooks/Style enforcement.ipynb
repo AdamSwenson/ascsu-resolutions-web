{
 "cells": [
  {
   "cell_type": "code",
   "execution_count": null,
   "id": "74ab656b",
   "metadata": {
    "run_control": {
     "marked": true
    }
   },
   "outputs": [],
   "source": [
    "%cd ~/Dropbox/ResolutionManagerWeb/python-scripts/\n",
    "\n",
    "# from ResolutionManager import environment as env\n",
    "from ResolutionManager.API.CredentialsManager import CredentialsManager\n",
    "from ResolutionManager.Repositories.DocumentRepository import DocumentRepository\n",
    "from ResolutionManager.Repositories.FileRepository import FileRepository\n",
    "from ResolutionManager.Repositories.ResolutionTemplateRespository import ResolutionTemplateRepository\n",
    "from ResolutionManager.Repositories.PermissionsRepository import PermissionsRepository\n",
    "from ResolutionManager.Repositories.StylingRepository import StylingRepository\n",
    "\n",
    "# import ResolutionManager.executables.make_folders_for_plenary as make_folders\n",
    "# import ResolutionManager.executables.web_copy_first_readings_for_feedback as copy_first_reads\n",
    "# import ResolutionManager.executables.create_resolution_from_template as create_resolution\n",
    "from ResolutionManager.Models.Plenaries import Plenary\n",
    "from ResolutionManager.Models.Committees import Committee\n",
    "from ResolutionManager.Models.Resolutions import Resolution\n",
    "import datetime\n",
    "# import environment as env\n",
    "\n",
    "from ResolutionManager.DAO.DAO import MySqlDao\n",
    "from ResolutionManager.Repositories.CommitteeRepository import CommitteeRepository\n",
    "from ResolutionManager.Repositories.PlenaryRepository import PlenaryRepository\n",
    "from ResolutionManager.Repositories.ResolutionRepository import ResolutionRepository\n",
    "resolution_id = 11\n",
    "\n",
    "dao = MySqlDao()\n",
    "committee_repo = CommitteeRepository(dao)\n",
    "plenary_repo = PlenaryRepository(dao)\n",
    "resolution_repo = ResolutionRepository(dao)\n",
    "doc_repo = DocumentRepository()\n",
    "file_repo = FileRepository()\n",
    "style_repo = StylingRepository()"
   ]
  },
  {
   "cell_type": "code",
   "execution_count": null,
   "id": "a26be632",
   "metadata": {},
   "outputs": [],
   "source": []
  },
  {
   "cell_type": "code",
   "execution_count": null,
   "id": "6562fd24",
   "metadata": {},
   "outputs": [],
   "source": []
  },
  {
   "cell_type": "code",
   "execution_count": null,
   "id": "992ce933",
   "metadata": {},
   "outputs": [],
   "source": [
    "docid = '1fVEmHi_3IOCVRWf0dTPus2mF7Nbame8E8Y3oX02rEu4'\n",
    "# docid = '10R-dDvd32Z3xBzX6PFPF13bQ9ocvhvZ3mw8mFMM1LfM'\n",
    "# docid = '1Mc3L3DgCxZ9hOCbBnzAMogWybZvpAX2V5w1mc5nBppk'\n",
    "doc = doc_repo.get_document(docid)\n",
    "rez = Resolution(document_id=docid, document_obj=doc)\n",
    "rez.document_obj['namedRanges']"
   ]
  },
  {
   "cell_type": "code",
   "execution_count": null,
   "id": "5e536f39",
   "metadata": {},
   "outputs": [],
   "source": [
    "def get_end_index(document):\n",
    "    body = document.get('body').get('content')\n",
    "    return body[len(body) - 1]['endIndex']\n",
    "\n",
    "get_end_index(doc)"
   ]
  },
  {
   "cell_type": "code",
   "execution_count": null,
   "id": "af43989b",
   "metadata": {},
   "outputs": [],
   "source": [
    "doc"
   ]
  },
  {
   "cell_type": "code",
   "execution_count": null,
   "id": "325da9ad",
   "metadata": {},
   "outputs": [],
   "source": [
    "\n",
    "\n",
    "for p in doc['body']['content']:\n",
    "    try:\n",
    "        for k in p['paragraph']['elements']:\n",
    "            print(k['textRun']['content'])\n",
    "#         ['textRun']['content'])\n",
    "#         print(p['paragraph']['textRun']['content'])\n",
    "    except KeyError:\n",
    "        pass\n",
    "    \n",
    "     "
   ]
  },
  {
   "cell_type": "code",
   "execution_count": null,
   "id": "dedc000b",
   "metadata": {},
   "outputs": [],
   "source": [
    "d = doc['body']['content'][1]['paragraph']\n",
    "is_excluded(d, skip_list=[ 'Academic Senate\\n'])\n"
   ]
  },
  {
   "cell_type": "code",
   "execution_count": null,
   "id": "9b8cfaaf",
   "metadata": {},
   "outputs": [],
   "source": [
    "d"
   ]
  },
  {
   "cell_type": "code",
   "execution_count": null,
   "id": "e9f4917d",
   "metadata": {},
   "outputs": [],
   "source": [
    "doc['body']['content'][1]"
   ]
  },
  {
   "cell_type": "code",
   "execution_count": null,
   "id": "ff29fd43",
   "metadata": {},
   "outputs": [],
   "source": [
    "doc"
   ]
  },
  {
   "cell_type": "code",
   "execution_count": null,
   "id": "74a52905",
   "metadata": {},
   "outputs": [],
   "source": []
  },
  {
   "cell_type": "markdown",
   "id": "0595d6b5",
   "metadata": {},
   "source": [
    "# Force font"
   ]
  },
  {
   "cell_type": "code",
   "execution_count": null,
   "id": "84cdfc2a",
   "metadata": {},
   "outputs": [],
   "source": [
    "r = resolution_repo.load_resolution(56)\n",
    "style_repo.force_font_on_resolution(r)"
   ]
  },
  {
   "cell_type": "markdown",
   "id": "c2a336a2",
   "metadata": {},
   "source": [
    "# Double space resolution"
   ]
  },
  {
   "cell_type": "code",
   "execution_count": null,
   "id": "ab29e98e",
   "metadata": {},
   "outputs": [],
   "source": [
    "r = resolution_repo.load_resolution(57)\n",
    "style_repo.double_space_resolution(r)"
   ]
  },
  {
   "cell_type": "code",
   "execution_count": null,
   "id": "e78042fb",
   "metadata": {},
   "outputs": [],
   "source": []
  },
  {
   "cell_type": "code",
   "execution_count": null,
   "id": "01b9b0b4",
   "metadata": {},
   "outputs": [],
   "source": []
  },
  {
   "cell_type": "code",
   "execution_count": null,
   "id": "7204bbd9",
   "metadata": {},
   "outputs": [],
   "source": []
  },
  {
   "cell_type": "code",
   "execution_count": null,
   "id": "be8a596d",
   "metadata": {},
   "outputs": [],
   "source": [
    "# todo: Revise this so it only makes one batched request to avoid quota limits\n",
    "\n",
    "from ResolutionManager.Repositories.StylingRepository import StylingRepository\n",
    "d = doc['body']['content'][1]\n",
    "style_repo= StylingRepository()\n",
    "for p in doc['body']['content']:\n",
    "    try:\n",
    "        style_repo.double_space(resolution=rez, paragraph=p, skip_text=['Academic Senate\\n'])\n",
    "    except KeyError as e:\n",
    "        print(e)"
   ]
  },
  {
   "cell_type": "code",
   "execution_count": null,
   "id": "1c788c89",
   "metadata": {},
   "outputs": [],
   "source": [
    "# "
   ]
  },
  {
   "cell_type": "code",
   "execution_count": null,
   "id": "163b8a03",
   "metadata": {},
   "outputs": [],
   "source": []
  },
  {
   "cell_type": "code",
   "execution_count": null,
   "id": "33788910",
   "metadata": {},
   "outputs": [],
   "source": []
  },
  {
   "cell_type": "code",
   "execution_count": null,
   "id": "7a88e97a",
   "metadata": {},
   "outputs": [],
   "source": [
    "for p in doc['body']['content']:\n",
    "    print(p)\n"
   ]
  },
  {
   "cell_type": "code",
   "execution_count": null,
   "id": "48ff0f91",
   "metadata": {},
   "outputs": [],
   "source": []
  },
  {
   "cell_type": "code",
   "execution_count": null,
   "id": "3427476c",
   "metadata": {},
   "outputs": [],
   "source": []
  },
  {
   "cell_type": "code",
   "execution_count": null,
   "id": "ac49c68f",
   "metadata": {},
   "outputs": [],
   "source": [
    "templateid = '1V8wRL5HobjyLLlISGAEvJKbVGaJcsCAwiIgNM_-oikc'\n",
    "template = doc_repo.get_document(templateid)\n"
   ]
  },
  {
   "cell_type": "code",
   "execution_count": null,
   "id": "f4aa3040",
   "metadata": {},
   "outputs": [],
   "source": [
    "template"
   ]
  },
  {
   "cell_type": "code",
   "execution_count": null,
   "id": "f0c4ffd2",
   "metadata": {},
   "outputs": [],
   "source": []
  },
  {
   "cell_type": "code",
   "execution_count": null,
   "id": "0d3f6823",
   "metadata": {},
   "outputs": [],
   "source": []
  },
  {
   "cell_type": "code",
   "execution_count": null,
   "id": "c9ca0fcd",
   "metadata": {},
   "outputs": [],
   "source": []
  },
  {
   "cell_type": "code",
   "execution_count": null,
   "id": "f73a2e29",
   "metadata": {},
   "outputs": [],
   "source": []
  },
  {
   "cell_type": "code",
   "execution_count": null,
   "id": "04195092",
   "metadata": {},
   "outputs": [],
   "source": [
    "startIndex = 1\n",
    "endIndex = get_end_index(doc)\n",
    "requests = [{\n",
    "    'updateTextStyle': {\n",
    "                'range': {\n",
    "                    'startIndex':startIndex,\n",
    "                    'endIndex': endIndex\n",
    "                },\n",
    "                'textStyle': {\n",
    "                    'weightedFontFamily': {\n",
    "                        'fontFamily':  'Atkinson Hyperlegible'\n",
    "\n",
    "                    },\n",
    "                    'fontSize': {\n",
    "                        'magnitude': 12,\n",
    "                        'unit': 'PT'\n",
    "                    },\n",
    "                },\n",
    "                        'fields': 'weightedFontFamily,fontSize'\n",
    "\n",
    "    }\n",
    "}\n",
    "]"
   ]
  },
  {
   "cell_type": "code",
   "execution_count": null,
   "id": "21a00493",
   "metadata": {},
   "outputs": [],
   "source": [
    "doc_repo.service.documents().batchUpdate(\n",
    "            documentId=docid, body={'requests': requests}).execute()\n"
   ]
  },
  {
   "cell_type": "code",
   "execution_count": null,
   "id": "597f3efa",
   "metadata": {},
   "outputs": [],
   "source": []
  }
 ],
 "metadata": {
  "kernelspec": {
   "display_name": "rezzie-manager",
   "language": "python",
   "name": "rezzie-manager"
  },
  "language_info": {
   "codemirror_mode": {
    "name": "ipython",
    "version": 3
   },
   "file_extension": ".py",
   "mimetype": "text/x-python",
   "name": "python",
   "nbconvert_exporter": "python",
   "pygments_lexer": "ipython3",
   "version": "3.10.12"
  },
  "toc": {
   "base_numbering": 1,
   "nav_menu": {},
   "number_sections": true,
   "sideBar": true,
   "skip_h1_title": false,
   "title_cell": "Table of Contents",
   "title_sidebar": "Contents",
   "toc_cell": false,
   "toc_position": {},
   "toc_section_display": true,
   "toc_window_display": false
  },
  "varInspector": {
   "cols": {
    "lenName": 16,
    "lenType": 16,
    "lenVar": 40
   },
   "kernels_config": {
    "python": {
     "delete_cmd_postfix": "",
     "delete_cmd_prefix": "del ",
     "library": "var_list.py",
     "varRefreshCmd": "print(var_dic_list())"
    },
    "r": {
     "delete_cmd_postfix": ") ",
     "delete_cmd_prefix": "rm(",
     "library": "var_list.r",
     "varRefreshCmd": "cat(var_dic_list()) "
    }
   },
   "types_to_exclude": [
    "module",
    "function",
    "builtin_function_or_method",
    "instance",
    "_Feature"
   ],
   "window_display": false
  }
 },
 "nbformat": 4,
 "nbformat_minor": 5
}
