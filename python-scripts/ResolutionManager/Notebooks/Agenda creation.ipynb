{
 "cells": [
  {
   "cell_type": "markdown",
   "id": "bfea455f",
   "metadata": {},
   "source": [
    "This is for developing stuff related to agendas/resolution lists"
   ]
  },
  {
   "cell_type": "markdown",
   "id": "05f632cb",
   "metadata": {},
   "source": [
    "https://developers.google.com/docs/api/quickstart/python"
   ]
  },
  {
   "cell_type": "code",
   "execution_count": null,
   "id": "4d8ea692",
   "metadata": {
    "run_control": {
     "marked": true
    }
   },
   "outputs": [],
   "source": [
    "%cd ~/Dropbox/ResolutionManagerWeb/python-scripts/\n",
    "\n",
    "# from ResolutionManager import environment as env\n",
    "from ResolutionManager.API.CredentialsManager import CredentialsManager\n",
    "from ResolutionManager.Repositories.DocumentRepository import DocumentRepository\n",
    "from ResolutionManager.Repositories.FileRepository import FileRepository\n",
    "from ResolutionManager.Repositories.ResolutionTemplateRespository import ResolutionTemplateRepository\n",
    "from ResolutionManager.Repositories.PermissionsRepository import PermissionsRepository\n",
    "# import ResolutionManager.executables.make_folders_for_plenary as make_folders\n",
    "# import ResolutionManager.executables.web_copy_first_readings_for_feedback as copy_first_reads\n",
    "# import ResolutionManager.executables.create_resolution_from_template as create_resolution\n",
    "from ResolutionManager.Models.Plenaries import Plenary\n",
    "from ResolutionManager.Models.Committees import Committee\n",
    "from ResolutionManager.Models.Resolutions import Resolution\n",
    "import datetime\n",
    "\n",
    "# import environment as env\n"
   ]
  },
  {
   "cell_type": "code",
   "execution_count": null,
   "id": "a904edde",
   "metadata": {
    "run_control": {
     "marked": true
    }
   },
   "outputs": [],
   "source": [
    "from ResolutionManager.DAO.DAO import MySqlDao\n",
    "from ResolutionManager.Repositories.CommitteeRepository import CommitteeRepository\n",
    "from ResolutionManager.Repositories.PlenaryRepository import PlenaryRepository\n",
    "from ResolutionManager.Repositories.ResolutionRepository import ResolutionRepository\n",
    "resolution_id = 11\n"
   ]
  },
  {
   "cell_type": "code",
   "execution_count": null,
   "id": "d79f7cd1",
   "metadata": {
    "run_control": {
     "marked": true
    }
   },
   "outputs": [],
   "source": [
    "dao = MySqlDao()\n",
    "committee_repo = CommitteeRepository(dao)\n",
    "plenary_repo = PlenaryRepository(dao)\n",
    "resolution_repo = ResolutionRepository(dao)\n",
    "permission_repo = PermissionsRepository()\n",
    "doc_repo = DocumentRepository()\n",
    "file_repo = FileRepository()"
   ]
  },
  {
   "cell_type": "code",
   "execution_count": null,
   "id": "4b80916d",
   "metadata": {},
   "outputs": [],
   "source": []
  },
  {
   "cell_type": "code",
   "execution_count": null,
   "id": "4809a602",
   "metadata": {},
   "outputs": [],
   "source": [
    "query = f\"select resolution_id, is_first_reading from ascsu.plenary_resolution where plenary_id = 12\"\n",
    "results = dao.conn.execute(query)\n",
    "\n",
    "# query = f\"select id from ascsu.resolutions\"\n",
    "# results = self.dao.conn.execute(query)\n",
    "for r, first_reading in results:\n",
    "    print(r, bool(first_reading))\n"
   ]
  },
  {
   "cell_type": "code",
   "execution_count": null,
   "id": "5fb80bbd",
   "metadata": {},
   "outputs": [],
   "source": [
    "a = [2, 4, 6]\n",
    "b = [0, 9]\n",
    "a.extend(b)"
   ]
  },
  {
   "cell_type": "code",
   "execution_count": null,
   "id": "fd5bf0a2",
   "metadata": {},
   "outputs": [],
   "source": [
    "a"
   ]
  },
  {
   "cell_type": "code",
   "execution_count": null,
   "id": "7c9ca7dd",
   "metadata": {},
   "outputs": [],
   "source": []
  },
  {
   "cell_type": "markdown",
   "id": "eb1dabac",
   "metadata": {},
   "source": [
    "# AR-31 Reusing the same agenda document"
   ]
  },
  {
   "cell_type": "code",
   "execution_count": null,
   "id": "ef1d1a4b",
   "metadata": {},
   "outputs": [],
   "source": [
    "agenda_template = \"1ZjUp5zDS_I6UHWl1HlLaJP6JyH5qo8zme2NCD3-kbQA\""
   ]
  },
  {
   "cell_type": "code",
   "execution_count": null,
   "id": "d99d309e",
   "metadata": {},
   "outputs": [],
   "source": [
    "d = doc_repo.get_document(agenda_template)\n",
    "d"
   ]
  },
  {
   "cell_type": "code",
   "execution_count": null,
   "id": "78da453d",
   "metadata": {},
   "outputs": [],
   "source": [
    "len(d['body'])"
   ]
  },
  {
   "cell_type": "code",
   "execution_count": null,
   "id": "6518691b",
   "metadata": {},
   "outputs": [],
   "source": []
  },
  {
   "cell_type": "code",
   "execution_count": null,
   "id": "b58ced39",
   "metadata": {},
   "outputs": [],
   "source": [
    "a = [1, 2]\n",
    "b=[3,4]\n",
    "c = a+b\n",
    "c"
   ]
  },
  {
   "cell_type": "code",
   "execution_count": null,
   "id": "aa94c90f",
   "metadata": {},
   "outputs": [],
   "source": [
    "# Get last body item\n",
    "final_index = d['body']['content'][len(d['body']['content'])-1]['endIndex']"
   ]
  },
  {
   "cell_type": "code",
   "execution_count": null,
   "id": "510ea81c",
   "metadata": {},
   "outputs": [],
   "source": [
    "# Get last body item\n",
    "final_index = document['body']['content'][len(d['body']['content'])-1]['endIndex']\n",
    "\n",
    "requests = [\n",
    "    {\n",
    "        'DeleteContentRangeRequest' : \n",
    "        {'range' : {'startIndex' : 1, 'endIndex': final_index}}\n",
    "    }\n",
    "]"
   ]
  },
  {
   "cell_type": "code",
   "execution_count": null,
   "id": "1b6e77bd",
   "metadata": {},
   "outputs": [],
   "source": []
  },
  {
   "cell_type": "code",
   "execution_count": null,
   "id": "c94d1324",
   "metadata": {},
   "outputs": [],
   "source": []
  },
  {
   "cell_type": "code",
   "execution_count": null,
   "id": "b96f8b1a",
   "metadata": {},
   "outputs": [],
   "source": [
    "test_doc = \"1ifmbYC9l5qqMBdWcvNsdKxByyBL2SEexDrnKi1N4U_0\""
   ]
  },
  {
   "cell_type": "code",
   "execution_count": null,
   "id": "00244feb",
   "metadata": {},
   "outputs": [],
   "source": [
    "doc_repo.get_document(test_doc)"
   ]
  },
  {
   "cell_type": "code",
   "execution_count": null,
   "id": "bd209dc0",
   "metadata": {},
   "outputs": [],
   "source": [
    "# Create named fields\n",
    "plenary date plenaryDateRange 13, 29\n",
    "action items actionItemsRange 92, 94\n",
    "first readings firstReadingRange 112, 114"
   ]
  },
  {
   "cell_type": "code",
   "execution_count": null,
   "id": "3c8c96c0",
   "metadata": {},
   "outputs": [],
   "source": []
  },
  {
   "cell_type": "code",
   "execution_count": null,
   "id": "9b32ae54",
   "metadata": {
    "deletable": false,
    "editable": false,
    "run_control": {
     "frozen": true
    }
   },
   "outputs": [],
   "source": [
    "add_named_range_to_template(doc_repo.service, test_doc, 13, 29, \"plenaryDateRange\")"
   ]
  },
  {
   "cell_type": "code",
   "execution_count": null,
   "id": "41206c99",
   "metadata": {
    "deletable": false,
    "editable": false,
    "run_control": {
     "frozen": true
    }
   },
   "outputs": [],
   "source": [
    "add_named_range_to_template(doc_repo.service, test_doc, 92, 94, \"actionItemsRange\")"
   ]
  },
  {
   "cell_type": "code",
   "execution_count": null,
   "id": "d8e1ef4c",
   "metadata": {
    "deletable": false,
    "editable": false,
    "run_control": {
     "frozen": true
    }
   },
   "outputs": [],
   "source": [
    "add_named_range_to_template(doc_repo.service, test_doc, 112, 114, \"firstReadingRange\")"
   ]
  },
  {
   "cell_type": "code",
   "execution_count": null,
   "id": "424841c0",
   "metadata": {},
   "outputs": [],
   "source": []
  },
  {
   "cell_type": "code",
   "execution_count": null,
   "id": "c5c1cad6",
   "metadata": {},
   "outputs": [],
   "source": [
    "doc = doc_repo.get_document(test_doc)\n",
    "named_range_list = doc.get('namedRanges', {})\n",
    "named_range_list"
   ]
  },
  {
   "cell_type": "code",
   "execution_count": null,
   "id": "c1463b8f",
   "metadata": {},
   "outputs": [],
   "source": []
  },
  {
   "cell_type": "code",
   "execution_count": null,
   "id": "362cb8b2",
   "metadata": {},
   "outputs": [],
   "source": [
    "doc"
   ]
  },
  {
   "cell_type": "code",
   "execution_count": null,
   "id": "2bd2643d",
   "metadata": {},
   "outputs": [],
   "source": []
  },
  {
   "cell_type": "code",
   "execution_count": null,
   "id": "d9f439b6",
   "metadata": {},
   "outputs": [],
   "source": [
    "def replace_named_range(service, document_id, document, range_name, new_text):\n",
    "\n",
    "    # Determine the length of the replacement text, as UTF-16 code units.\n",
    "    # https://developers.google.com/docs/api/concepts/structure#start_and_end_index\n",
    "    new_text_len = len(new_text.encode('utf-16-le')) / 2\n",
    "    print(new_text_len)\n",
    "\n",
    "    # Find the matching named ranges.\n",
    "    named_range_list = document.get('namedRanges', {}).get(range_name)\n",
    "    if not named_range_list:\n",
    "        raise Exception('The named range is no longer present in the document.')\n",
    "\n",
    "    # Create a sequence of requests for each range.\n",
    "    requests = []\n",
    "    \n",
    "    # Determine all the ranges of text to be removed, and at which indices the\n",
    "    # replacement text should be inserted.\n",
    "    all_ranges = []\n",
    "    insert_at = {}\n",
    "    for named_range in named_range_list.get('namedRanges'):\n",
    "        print(named_range)\n",
    "        ranges = named_range.get('ranges')\n",
    "        all_ranges.extend(ranges)\n",
    "        # Most named ranges only contain one range of text, but it's possible\n",
    "        # for it to be split into multiple ranges by user edits in the document.\n",
    "        # The replacement text should only be inserted at the start of the first\n",
    "        # range.\n",
    "        insert_at[ranges[0].get('startIndex')] = True\n",
    "\n",
    "    # Sort the list of ranges by startIndex, in descending order.\n",
    "    all_ranges.sort(key=lambda r: r.get('startIndex'), reverse=True)\n",
    "\n",
    "    # Create a sequence of requests for each range.\n",
    "    requests = []\n",
    "#     return all_ranges\n",
    "\n",
    "    for r in all_ranges:\n",
    "#         segment_id = r.get('segmentId')\n",
    "#         start = r.get('startIndex')\n",
    "        \n",
    "        # AR-31 seems like needs to check if anything to delte\n",
    "        # AR-31 this is getting too complicated. Probably should just delete the body after the header and rewrite\n",
    "        \n",
    "#         requests.append(\n",
    "#             {'updateParagraphStyle': {\n",
    "#                 'range': {\n",
    "#                     'startIndex': start,\n",
    "#                     'endIndex': start + new_text_len\n",
    "#                 },\n",
    "#                 'paragraphStyle': {\n",
    "#                     'shading': {\n",
    "#                         'backgroundColor': {\n",
    "#                             \"color\": {\n",
    "#              \"rgbColor\": {\n",
    "#                  \"red\": 0,\n",
    "#                  \"green\": 1,\n",
    "#                  \"blue\": 0\n",
    "#              }\n",
    "#                         },\n",
    "#                     }\n",
    "#                 },\n",
    "#                 'fields': 'shading'\n",
    "#             }\n",
    "#         }\n",
    "#             })\n",
    "        \n",
    "        # Delete all the content in the existing range.\n",
    "        requests.append({\n",
    "            'deleteContentRange': {\n",
    "                'range': r\n",
    "            }\n",
    "        })\n",
    "        \n",
    "#         segment_id = None\n",
    "\n",
    "        segment_id = r.get('segmentId')\n",
    "        start = r.get('startIndex')\n",
    "        if insert_at[start]:\n",
    "            # Insert the replacement text.\n",
    "            requests.append({\n",
    "                'insertText': {\n",
    "                    'location': {\n",
    "                        'segmentId': segment_id,\n",
    "                        'index': start\n",
    "                    },\n",
    "                    'text': new_text\n",
    "                }\n",
    "            })\n",
    "            # Re-create the named range on the new text.\n",
    "            requests.append({\n",
    "                'createNamedRange': {\n",
    "                    'name': range_name,\n",
    "                    'range': {\n",
    "                        'segmentId': segment_id,\n",
    "                        'startIndex': start,\n",
    "                        'endIndex': start + new_text_len\n",
    "                    }\n",
    "                }\n",
    "            })\n",
    "           \n",
    "        \n",
    "    #         # Center again\n",
    "    #         requests.append(\n",
    "    #             {\n",
    "    #                 'updateParagraphStyle': {\n",
    "    #                     'range': {\n",
    "    #                         'startIndex': start,\n",
    "    #                         'endIndex': start + new_text_len\n",
    "    #                     },\n",
    "    #                     'paragraphStyle': {\n",
    "    #                         'alignment': 'CENTER'\n",
    "    #                     },\n",
    "    #                     'fields': 'alignment'\n",
    "    #                 }\n",
    "    #             })\n",
    "\n",
    "#     # Make a batchUpdate request to apply the changes, ensuring the document\n",
    "#     # hasn't changed since we fetched it.\n",
    "    body = {\n",
    "        'requests': requests,\n",
    "#         'writeControl': {\n",
    "#             'requiredRevisionId': document.get('revisionId')\n",
    "#         }\n",
    "    }\n",
    "    result = service.documents().batchUpdate(documentId=document_id, body=body).execute()\n",
    "    return result\n",
    "#     return requests\n"
   ]
  },
  {
   "cell_type": "code",
   "execution_count": null,
   "id": "6de52dcf",
   "metadata": {},
   "outputs": [],
   "source": [
    "doc = doc_repo.get_document(agenda_template)\n",
    "\n",
    "replace_named_range(doc_repo.service, test_doc, doc, 'actionItemsRange', 'zzzzzzzzzzzzzzzzzzzzz')"
   ]
  },
  {
   "cell_type": "code",
   "execution_count": null,
   "id": "f43c1cdc",
   "metadata": {},
   "outputs": [],
   "source": [
    "doc"
   ]
  },
  {
   "cell_type": "code",
   "execution_count": null,
   "id": "048c7ff2",
   "metadata": {},
   "outputs": [],
   "source": []
  },
  {
   "cell_type": "code",
   "execution_count": null,
   "id": "e702bc44",
   "metadata": {},
   "outputs": [],
   "source": []
  },
  {
   "cell_type": "code",
   "execution_count": null,
   "id": "ecb439b7",
   "metadata": {},
   "outputs": [],
   "source": [
    "k = {'a': 1}\n",
    "k"
   ]
  },
  {
   "cell_type": "code",
   "execution_count": null,
   "id": "092fc2f9",
   "metadata": {},
   "outputs": [],
   "source": [
    "assert(k.get('b') is not None)"
   ]
  },
  {
   "cell_type": "code",
   "execution_count": null,
   "id": "55213a86",
   "metadata": {},
   "outputs": [],
   "source": []
  },
  {
   "cell_type": "code",
   "execution_count": null,
   "id": "50295573",
   "metadata": {},
   "outputs": [],
   "source": []
  },
  {
   "cell_type": "markdown",
   "id": "282b4b32",
   "metadata": {},
   "source": [
    "# Update action items list based on what's in folder"
   ]
  },
  {
   "cell_type": "code",
   "execution_count": null,
   "id": "835fcd0e",
   "metadata": {},
   "outputs": [],
   "source": [
    "plenary_id = 4\n",
    "plenary = plenary_repo.load_plenary(plenary_id)"
   ]
  },
  {
   "cell_type": "code",
   "execution_count": null,
   "id": "ea6717ed",
   "metadata": {},
   "outputs": [],
   "source": [
    "plenary"
   ]
  },
  {
   "cell_type": "code",
   "execution_count": null,
   "id": "fc91db42",
   "metadata": {},
   "outputs": [],
   "source": [
    "files = file_repo.list_files(plenary.second_reading_folder_id)\n",
    "files"
   ]
  },
  {
   "cell_type": "code",
   "execution_count": null,
   "id": "978ff28f",
   "metadata": {},
   "outputs": [],
   "source": [
    "rez = resolution_repo.load_all_resolutions_for_plenary(plenary)\n",
    "rez"
   ]
  },
  {
   "cell_type": "code",
   "execution_count": null,
   "id": "71832d05",
   "metadata": {},
   "outputs": [],
   "source": [
    "# identify action items based on if in action items folder\n",
    "action_item_ids = [f['id'] for f in files]\n",
    "action_items = [r for r in rez if r.document_id in action_item_ids]\n",
    "# need these in case something got moved from action items folder\n",
    "non_action_items = [r for r in rez if r not in action_items]\n"
   ]
  },
  {
   "cell_type": "code",
   "execution_count": null,
   "id": "84d10123",
   "metadata": {},
   "outputs": [],
   "source": [
    "rez[0].__dict__"
   ]
  },
  {
   "cell_type": "code",
   "execution_count": null,
   "id": "9253d1f8",
   "metadata": {},
   "outputs": [],
   "source": [
    "for r in action_items: \n",
    "    resolution_repo.set_as_action_item(plenary, rez[0])\n",
    "for r in non_action_items:\n",
    "    resolution_repo.set_as_first_reading_item(plenary, rez[0])"
   ]
  },
  {
   "cell_type": "code",
   "execution_count": null,
   "id": "e3d29560",
   "metadata": {},
   "outputs": [],
   "source": []
  },
  {
   "cell_type": "code",
   "execution_count": null,
   "id": "d9a2a3d7",
   "metadata": {},
   "outputs": [],
   "source": []
  },
  {
   "cell_type": "code",
   "execution_count": null,
   "id": "5ff29a64",
   "metadata": {},
   "outputs": [],
   "source": [
    "def set_as_action_item(dao, plenary, resolution):\n",
    "    # NB, doesn't alter the waiver flag in case something that was supposed to be a first reading\n",
    "    # accidentally got moved into the action folder and then moved back out. Agenda creation doesn't \n",
    "    # use the waiver flag so shouldn't be a problem\n",
    "    \n",
    "    query = f\"\"\"UPDATE ascsu.plenary_resolution AS pr \n",
    "    INNER JOIN \n",
    "    (SELECT * FROM ascsu.plenary_resolution p WHERE p.plenary_id = {plenary.id} AND p.resolution_id = {resolution.id}) AS b \n",
    "    ON pr.id = b.id \n",
    "    SET pr.is_first_reading = 0\n",
    "    WHERE pr.id = b.id\"\"\"\n",
    "    return dao.conn.execute(query)\n",
    "    \n",
    "r = Resolution(id=23)\n",
    "b = set_as_action_item(dao, plenary, r )\n",
    "b.__dict__\n",
    "# def set_as_first_reading(dao, plenary, resolution):\n",
    "#     \"\"\"Makes the resolution a first reading item. \n",
    "#     todo Decide whether should change waiver request status\n",
    "#     \"\"\""
   ]
  },
  {
   "cell_type": "code",
   "execution_count": null,
   "id": "faa87c45",
   "metadata": {},
   "outputs": [],
   "source": [
    "# get items listed as action items in db\n",
    "q = f\"select * from ascsu.plenary_resolution where plenary_id = \""
   ]
  },
  {
   "cell_type": "code",
   "execution_count": null,
   "id": "57ae9dc6",
   "metadata": {},
   "outputs": [],
   "source": []
  },
  {
   "cell_type": "code",
   "execution_count": null,
   "id": "355a5b69",
   "metadata": {},
   "outputs": [],
   "source": []
  },
  {
   "cell_type": "code",
   "execution_count": null,
   "id": "abaeb200",
   "metadata": {},
   "outputs": [],
   "source": []
  },
  {
   "cell_type": "markdown",
   "id": "cb71b05a",
   "metadata": {},
   "source": [
    "# Get document"
   ]
  },
  {
   "cell_type": "code",
   "execution_count": null,
   "id": "7159fa9a",
   "metadata": {},
   "outputs": [],
   "source": [
    "doc_repo = DocumentRepository()"
   ]
  },
  {
   "cell_type": "code",
   "execution_count": null,
   "id": "35c68250",
   "metadata": {},
   "outputs": [],
   "source": [
    "doc_repo.get_document('1V8wRL5HobjyLLlISGAEvJKbVGaJcsCAwiIgNM_-oikc')"
   ]
  },
  {
   "cell_type": "code",
   "execution_count": null,
   "id": "6d6014d9",
   "metadata": {},
   "outputs": [],
   "source": []
  },
  {
   "cell_type": "code",
   "execution_count": null,
   "id": "2c25a699",
   "metadata": {},
   "outputs": [],
   "source": []
  },
  {
   "cell_type": "code",
   "execution_count": null,
   "id": "b437b895",
   "metadata": {},
   "outputs": [],
   "source": []
  },
  {
   "cell_type": "markdown",
   "id": "2da85e52",
   "metadata": {},
   "source": [
    "# Create agenda"
   ]
  },
  {
   "cell_type": "code",
   "execution_count": null,
   "id": "08eb3ea0",
   "metadata": {},
   "outputs": [],
   "source": [
    "plenary_id = 1\n",
    "\n",
    "# Load from database\n",
    "dao = MySqlDao()\n",
    "committee_repo = CommitteeRepository(dao)\n",
    "resolution_repo = ResolutionRepository(dao)\n",
    "plenary_repo = PlenaryRepository(dao)\n",
    "permission_repo = PermissionsRepository()\n",
    "document_repo = DocumentRepository()\n",
    "\n",
    "plenary = plenary_repo.load_plenary(plenary_id)\n",
    "plenary.__dict__"
   ]
  },
  {
   "cell_type": "code",
   "execution_count": null,
   "id": "734f7d6f",
   "metadata": {},
   "outputs": [],
   "source": [
    "# Working version now in web_create_agenda\n",
    "# this is experiemental\n",
    "\n",
    "\n",
    "plenary_id = 1\n",
    "\n",
    "# Load from database\n",
    "dao = MySqlDao()\n",
    "committee_repo = CommitteeRepository(dao)\n",
    "resolution_repo = ResolutionRepository(dao)\n",
    "plenary_repo = PlenaryRepository(dao)\n",
    "permission_repo = PermissionsRepository()\n",
    "document_repo = DocumentRepository()\n",
    "\n",
    "plenary = plenary_repo.load_plenary(plenary_id)\n",
    "\n",
    "# Get all resolutions\n",
    "# For now not going to sync the database, just use title from drive if can be retrieved and default to db version\n",
    "resolutions = resolution_repo.load_all_resolutions()\n",
    "\n",
    "# Create an agenda document\n",
    "fname = f\"{plenary.plenary_folder_name} Agenda\"\n",
    "agenda_id = document_repo.create_file(fname)\n",
    "file_repo.move_file_to_folder(agenda_id, plenary.plenary_folder_id)\n",
    "\n",
    "plenary = plenary_repo.update_agenda_id(plenary, agenda_id)\n",
    "\n",
    "# maybe should store, that way can update\n",
    "print(agenda_id)\n",
    "\n",
    "idx = 1\n",
    "requests = []\n",
    "\n",
    "for r in resolutions:\n",
    "    try:\n",
    "        text = f\"{r.agenda_item} \\n\"\n",
    "        requests.append(    {\n",
    "        'insertText': {\n",
    "            'location': {\n",
    "                'index': idx,\n",
    "            },\n",
    "            'text': text,\n",
    "        }\n",
    "        })\n",
    "        idx += len(text)\n",
    "    \n",
    "        url_text = f\"{r.url} \\n\\n\"\n",
    "        requests.append(    {\n",
    "        'insertText': {\n",
    "            'location': {\n",
    "                'index': idx,\n",
    "            },\n",
    "            'text': url_text\n",
    "        }\n",
    "        })\n",
    "        \n",
    "        \n",
    "        requests.append(\n",
    "         {\n",
    "             \"updateTextStyle\": {\n",
    "                 \"textStyle\": {\n",
    "                     \"link\": {\n",
    "                         \"url\": r.url\n",
    "                     }\n",
    "                 },\n",
    "                 \"range\": {\n",
    "                     \"startIndex\": idx,\n",
    "                     \"endIndex\": idx + len(url_text)\n",
    "                 },\n",
    "                 \"fields\": \"link\"\n",
    "             }\n",
    "         })\n",
    "        idx += len(url_text)\n",
    "\n",
    "    except Exception:\n",
    "        pass\n",
    "    \n",
    "print(requests)\n",
    "\n",
    "result = document_repo.service.documents().batchUpdate(documentId=agenda_id, body={'requests': requests}).execute()\n"
   ]
  },
  {
   "cell_type": "code",
   "execution_count": null,
   "id": "a86b2cd9",
   "metadata": {},
   "outputs": [],
   "source": []
  },
  {
   "cell_type": "code",
   "execution_count": null,
   "id": "2e27d91d",
   "metadata": {},
   "outputs": [],
   "source": []
  },
  {
   "cell_type": "code",
   "execution_count": null,
   "id": "efd8290b",
   "metadata": {},
   "outputs": [],
   "source": []
  },
  {
   "cell_type": "code",
   "execution_count": null,
   "id": "511e303e",
   "metadata": {},
   "outputs": [],
   "source": []
  },
  {
   "cell_type": "code",
   "execution_count": null,
   "id": "38e88cef",
   "metadata": {},
   "outputs": [],
   "source": []
  },
  {
   "cell_type": "code",
   "execution_count": null,
   "id": "dfd9ac60",
   "metadata": {},
   "outputs": [],
   "source": []
  },
  {
   "cell_type": "code",
   "execution_count": null,
   "id": "218e71a7",
   "metadata": {},
   "outputs": [],
   "source": [
    "committee_repo.load_sponsor(30)"
   ]
  },
  {
   "cell_type": "code",
   "execution_count": null,
   "id": "197339b5",
   "metadata": {},
   "outputs": [],
   "source": [
    "resolution.__dict__"
   ]
  },
  {
   "cell_type": "code",
   "execution_count": null,
   "id": "1b7402d8",
   "metadata": {},
   "outputs": [],
   "source": []
  },
  {
   "cell_type": "code",
   "execution_count": null,
   "id": "3fda38ad",
   "metadata": {},
   "outputs": [],
   "source": [
    "p = plenary_repo.load_plenary(1)"
   ]
  },
  {
   "cell_type": "code",
   "execution_count": null,
   "id": "8f018296",
   "metadata": {},
   "outputs": [],
   "source": [
    "p.month"
   ]
  },
  {
   "cell_type": "code",
   "execution_count": null,
   "id": "8852e522",
   "metadata": {},
   "outputs": [],
   "source": [
    "p.formatted_plenary_date()"
   ]
  },
  {
   "cell_type": "code",
   "execution_count": null,
   "id": "b8bd05df",
   "metadata": {},
   "outputs": [],
   "source": [
    "p.year"
   ]
  },
  {
   "cell_type": "code",
   "execution_count": null,
   "id": "62a8d207",
   "metadata": {},
   "outputs": [],
   "source": [
    "d = datetime.date(2023, 5, 7)\n",
    "d.day +1"
   ]
  },
  {
   "cell_type": "code",
   "execution_count": null,
   "id": "d2e59b38",
   "metadata": {},
   "outputs": [],
   "source": [
    "d.strftime(\"%B\")"
   ]
  },
  {
   "cell_type": "code",
   "execution_count": null,
   "id": "f322d4ba",
   "metadata": {},
   "outputs": [],
   "source": [
    "thursday_date = datetime.date(2023, 5, 7)\n",
    "dao.conn.execute(f\"insert into ascsu.plenaries (thursday_date) values ('{thursday_date}')\")"
   ]
  },
  {
   "cell_type": "code",
   "execution_count": null,
   "id": "909f6c2a",
   "metadata": {},
   "outputs": [],
   "source": [
    "r = dao.conn.execute(\"select * from ascsu.plenaries\").fetchone()\n",
    "r"
   ]
  },
  {
   "cell_type": "code",
   "execution_count": null,
   "id": "6c64a79c",
   "metadata": {},
   "outputs": [],
   "source": [
    "import os\n",
    "cwd = os.getcwd()\n",
    "cwd\n"
   ]
  },
  {
   "cell_type": "code",
   "execution_count": null,
   "id": "2efacfc8",
   "metadata": {
    "run_control": {
     "marked": true
    }
   },
   "outputs": [],
   "source": [
    "resolution_name = \"Opposing the existence of the CO\"\n",
    "resolution_number = 3456\n",
    "committee = Committee('Faculty Affairs', 'FA')\n",
    "cosponsors = [ Committee('Academic Affairs', 'AA')]\n",
    "resolution = Resolution(number=resolution_number, title=resolution_name, committee=committee, cosponsors=cosponsors)\n",
    "\n",
    "plenary = Plenary(thursday_date='2023-01-04',\n",
    "                      first_reading_folder_id='1sv_4BUV5fk6Kcjss8HeSCJWnsLZJVpKC',\n",
    "                  plenary_folder_id='1ITs5N1qpTbqVqAhALrxqSsDwiSKsnSj5'\n",
    "                      )\n",
    "# plenary = Plenary(year=2023,\n",
    "#                       month='September',\n",
    "#                       thursday_date=12,\n",
    "#                       friday_date=14,\n",
    "#                       first_reading_folder_id='1sv_4BUV5fk6Kcjss8HeSCJWnsLZJVpKC',\n",
    "#                   plenary_folder_id='1ITs5N1qpTbqVqAhALrxqSsDwiSKsnSj5'\n",
    "#                       )"
   ]
  },
  {
   "cell_type": "code",
   "execution_count": null,
   "id": "05630989",
   "metadata": {
    "run_control": {
     "marked": true
    }
   },
   "outputs": [],
   "source": [
    "doc_repo = DocumentRepository()\n",
    "file_repo = FileRepository()\n"
   ]
  },
  {
   "cell_type": "code",
   "execution_count": null,
   "id": "9c8caff2",
   "metadata": {
    "run_control": {
     "marked": true
    }
   },
   "outputs": [],
   "source": [
    "committees = [ ('Academic Affairs', 'AA'), ('Academic Prep', 'APEP'), \n",
    "              ('Executive Committee', 'Exec'),('Faculty Affairs', 'FA'), \n",
    "              ('Fiscal and Governmental Affairs', 'FGA'), ('Justice, Equity, Diversity, and Inclusion', 'JEDI')]\n",
    "committees = [Committee(c[0], c[1]) for c in committees]"
   ]
  },
  {
   "cell_type": "code",
   "execution_count": null,
   "id": "c79b027c",
   "metadata": {},
   "outputs": [],
   "source": [
    "k = file_repo.list_files(folder_id=plenary.first_reading_folder_id)\n"
   ]
  },
  {
   "cell_type": "code",
   "execution_count": null,
   "id": "2af91f5f",
   "metadata": {},
   "outputs": [],
   "source": [
    "k"
   ]
  },
  {
   "cell_type": "code",
   "execution_count": null,
   "id": "3e9ada0e",
   "metadata": {},
   "outputs": [],
   "source": []
  },
  {
   "cell_type": "markdown",
   "id": "2836b204",
   "metadata": {},
   "source": [
    "# Build folder structure for plenaries"
   ]
  },
  {
   "cell_type": "code",
   "execution_count": null,
   "id": "0f10b46e",
   "metadata": {
    "deletable": false,
    "editable": false,
    "run_control": {
     "frozen": true
    }
   },
   "outputs": [],
   "source": [
    "make_folders.main(plenary)"
   ]
  },
  {
   "cell_type": "code",
   "execution_count": null,
   "id": "e8f0d251",
   "metadata": {},
   "outputs": [],
   "source": [
    "plenary2 = Plenary(thursday_date='2023-01-23')\n",
    "plenary2 = make_folders.main(plenary2)\n",
    "plenary2.__dict__"
   ]
  },
  {
   "cell_type": "code",
   "execution_count": null,
   "id": "e3e6bfe4",
   "metadata": {},
   "outputs": [],
   "source": []
  },
  {
   "cell_type": "markdown",
   "id": "d240f0dd",
   "metadata": {},
   "source": [
    "# Create resolution"
   ]
  },
  {
   "cell_type": "code",
   "execution_count": null,
   "id": "4e83cf84",
   "metadata": {},
   "outputs": [],
   "source": [
    "plenary = Plenary(id=1, thursday_date='2023-01-23')\n",
    "\n",
    "\n",
    "resolution_name = \"Opposing the existence of the CO\"\n",
    "resolution_number = 3456\n",
    "committee = Committee('Faculty Affairs', 'FA')\n",
    "cosponsors = [ Committee('Academic Affairs', 'AA')]\n",
    "resolution = Resolution(number=resolution_number, title=resolution_name, committee=committee, cosponsors=cosponsors)\n",
    "\n",
    "create_resolution.main(plenary_id=plenary.id, resolution_id=1)"
   ]
  },
  {
   "cell_type": "code",
   "execution_count": null,
   "id": "025b3349",
   "metadata": {},
   "outputs": [],
   "source": []
  },
  {
   "cell_type": "code",
   "execution_count": null,
   "id": "408e0d2c",
   "metadata": {},
   "outputs": [],
   "source": [
    "%cd ~/Dropbox/ResolutionManagerWeb/python-scripts/executables/\n",
    "import web_create_resolution_from_template as create_resolution\n"
   ]
  },
  {
   "cell_type": "code",
   "execution_count": null,
   "id": "2db40aad",
   "metadata": {},
   "outputs": [],
   "source": []
  },
  {
   "cell_type": "code",
   "execution_count": null,
   "id": "6dab761b",
   "metadata": {},
   "outputs": [],
   "source": []
  },
  {
   "cell_type": "code",
   "execution_count": null,
   "id": "b860fece",
   "metadata": {},
   "outputs": [],
   "source": []
  },
  {
   "cell_type": "markdown",
   "id": "64dcf143",
   "metadata": {},
   "source": [
    "# Create public feedback versions"
   ]
  },
  {
   "cell_type": "code",
   "execution_count": null,
   "id": "f7589bff",
   "metadata": {
    "deletable": false,
    "editable": false,
    "run_control": {
     "frozen": true
    }
   },
   "outputs": [],
   "source": [
    "copy_first_reads.main(plenary)"
   ]
  },
  {
   "cell_type": "code",
   "execution_count": null,
   "id": "732893f4",
   "metadata": {},
   "outputs": [],
   "source": [
    "copy_first_reads.main(1)"
   ]
  },
  {
   "cell_type": "code",
   "execution_count": null,
   "id": "5fe6db52",
   "metadata": {},
   "outputs": [],
   "source": []
  },
  {
   "cell_type": "markdown",
   "id": "2c804410",
   "metadata": {},
   "source": [
    "# Permission management"
   ]
  },
  {
   "cell_type": "code",
   "execution_count": null,
   "id": "038c25c8",
   "metadata": {},
   "outputs": [],
   "source": [
    "fid = '1tYVZaK0Naaekhj6f4phj7xF4XVIIn5bUF6aJI6SKSZM' #test 8\n",
    "# fid = '1sv_4BUV5fk6Kcjss8HeSCJWnsLZJVpKC' #first read folder\n",
    "permission_repo = PermissionsRepository()\n"
   ]
  },
  {
   "cell_type": "code",
   "execution_count": null,
   "id": "24c69b2a",
   "metadata": {},
   "outputs": [],
   "source": [
    "# make editable\n",
    "for f in file_repo.list_files(folder_id=plenary.first_reading_folder_id):\n",
    "    permission_repo.make_world_writable(f['id'])"
   ]
  },
  {
   "cell_type": "code",
   "execution_count": null,
   "id": "e1bc4c77",
   "metadata": {},
   "outputs": [],
   "source": [
    "#make readable\n",
    "for f in file_repo.list_files(folder_id=plenary.first_reading_folder_id):\n",
    "    permission_repo.make_world_readable(f['id'])"
   ]
  },
  {
   "cell_type": "code",
   "execution_count": null,
   "id": "6b64634c",
   "metadata": {},
   "outputs": [],
   "source": []
  },
  {
   "cell_type": "code",
   "execution_count": null,
   "id": "68baada7",
   "metadata": {},
   "outputs": [],
   "source": []
  },
  {
   "cell_type": "code",
   "execution_count": null,
   "id": "ae23a4a8",
   "metadata": {},
   "outputs": [],
   "source": []
  },
  {
   "cell_type": "code",
   "execution_count": null,
   "id": "0de477e3",
   "metadata": {},
   "outputs": [],
   "source": []
  },
  {
   "cell_type": "code",
   "execution_count": null,
   "id": "3dd217c0",
   "metadata": {},
   "outputs": [],
   "source": []
  },
  {
   "cell_type": "code",
   "execution_count": null,
   "id": "b9d12987",
   "metadata": {},
   "outputs": [],
   "source": [
    "permission_repo.remove_world_readable(fid)"
   ]
  },
  {
   "cell_type": "code",
   "execution_count": null,
   "id": "79062b24",
   "metadata": {},
   "outputs": [],
   "source": [
    "permission_repo.get_permission(fid)"
   ]
  },
  {
   "cell_type": "code",
   "execution_count": null,
   "id": "e3f7b57a",
   "metadata": {},
   "outputs": [],
   "source": []
  },
  {
   "cell_type": "code",
   "execution_count": null,
   "id": "130b1630",
   "metadata": {},
   "outputs": [],
   "source": []
  },
  {
   "cell_type": "code",
   "execution_count": null,
   "id": "130a8565",
   "metadata": {},
   "outputs": [],
   "source": []
  },
  {
   "cell_type": "code",
   "execution_count": null,
   "id": "6b7be1b4",
   "metadata": {},
   "outputs": [],
   "source": [
    "permission_repo.get_sharing_link(fid)"
   ]
  },
  {
   "cell_type": "code",
   "execution_count": null,
   "id": "57f00469",
   "metadata": {},
   "outputs": [],
   "source": []
  },
  {
   "cell_type": "code",
   "execution_count": null,
   "id": "7b6fecff",
   "metadata": {},
   "outputs": [],
   "source": []
  },
  {
   "cell_type": "code",
   "execution_count": null,
   "id": "f64da1eb",
   "metadata": {},
   "outputs": [],
   "source": []
  },
  {
   "cell_type": "code",
   "execution_count": null,
   "id": "c892294f",
   "metadata": {},
   "outputs": [],
   "source": []
  },
  {
   "cell_type": "code",
   "execution_count": null,
   "id": "ec9817c7",
   "metadata": {},
   "outputs": [],
   "source": []
  },
  {
   "cell_type": "code",
   "execution_count": null,
   "id": "83f34a64",
   "metadata": {},
   "outputs": [],
   "source": []
  },
  {
   "cell_type": "markdown",
   "id": "51a1f790",
   "metadata": {},
   "source": [
    "# display"
   ]
  },
  {
   "cell_type": "code",
   "execution_count": null,
   "id": "8b2841d3",
   "metadata": {
    "run_control": {
     "marked": false
    }
   },
   "outputs": [],
   "source": [
    "from ResolutionManager.Widgets.InputFields import make_text_input, make_selection_button\n",
    "from IPython.display import display\n",
    "from ipywidgets import Layout, widgets, HBox, VBox, Label\n"
   ]
  },
  {
   "cell_type": "code",
   "execution_count": null,
   "id": "9f2f7385",
   "metadata": {},
   "outputs": [],
   "source": [
    "class ControlStore(object):\n",
    "    \n",
    "    def __init__(self):\n",
    "        self.resolution = Resolution()\n",
    "        \n",
    "    @property\n",
    "    def sponsor(self):\n",
    "        return self.resolution.committee\n",
    "    \n",
    "    @sponsor.setter\n",
    "    def sponsor(self, committee):\n",
    "        self.resolution.committee = committee\n",
    "    \n",
    "    @property\n",
    "    def cosponsors(self):\n",
    "        return self.resolution.cosponsors\n",
    "    \n",
    "    @cosponsors.setter\n",
    "    def cosponsors(self, cosponsors):\n",
    "        self.resolution.cosponsors = cosponsors\n",
    "            \n",
    "    @property\n",
    "    def title(self):\n",
    "        return self.resolution.title\n",
    "    \n",
    "    @title.setter\n",
    "    def title(self, title):\n",
    "        self.resolution.title = title\n",
    "\n",
    "    def get_sponsor(self):\n",
    "        return [self.sponsor]\n",
    "\n",
    "    def add_sponsor(self, committee, kwargs):\n",
    "        print('add')\n",
    "        print(committee)\n",
    "        self.sponsor = committee\n",
    "          \n",
    "    def remove_sponsor(self, committee):\n",
    "        print('remove')\n",
    "        print(committee)\n",
    "        self.sponsor =  None\n",
    "        \n",
    "        \n",
    "    def get_cosponsors(self):\n",
    "        return self.cosponsors\n",
    "    \n",
    "    def add_cosponsors(self, co):\n",
    "        self.cosponsors = co\n",
    "        \n",
    "    def remove_cosponsors(self, c):\n",
    "        self.cosponsors = []\n",
    "    \n",
    "store = ControlStore()"
   ]
  },
  {
   "cell_type": "code",
   "execution_count": null,
   "id": "dd907737",
   "metadata": {},
   "outputs": [],
   "source": [
    "# sponsoring_committee = None\n",
    "# def get_sponsor():\n",
    "#     return [sponsoring_committee]\n",
    "\n",
    "# def add_sponsor(committee, kwargs):\n",
    "#     sponsoring_committee = committee, kwargs\n",
    "    \n",
    "# def remove_sponsor(committee):\n",
    "#     print(committee)\n",
    "#     sponsoring_committee = None\n",
    "\n",
    "def make_committee_chooser():\n",
    "    buttons = []\n",
    "    for c in committees:\n",
    "        v = {'item_id' : c, 'name' : c.name, 'get_func' : store.get_sponsor, 'add_func': store.add_sponsor, 'remove_func' : store.remove_sponsor}\n",
    "        buttons.append(make_selection_button(**v))\n",
    "    return buttons\n",
    "\n",
    "def make_cosponsor_chooser():\n",
    "    buttons = []\n",
    "    for c in committees:\n",
    "        v = {'item_id' : c, 'name' : c.name, 'get_func' : store.get_cosponsors, 'add_func': store.add_cosponsors, 'remove_func' : store.remove_cosponsors}\n",
    "        buttons.append(make_selection_button(**v))\n",
    "    return buttons\n",
    "\n",
    "def make_waiver():\n",
    "    return widgets.Checkbox(\n",
    "    value=False,\n",
    "    description='Waiver requested',\n",
    "    disabled=False,\n",
    "    indent=False\n",
    ")\n",
    "\n",
    "def make_create_button():\n",
    "    def callback():\n",
    "        create_resolution.main(plenary=plenary, resolution=store.resolution)\n",
    "        print('click')\n",
    "    layout = widgets.Layout( width='75%' )\n",
    "    b = widgets.Button( description=\"Create resolution\", layout=layout, button_style='danger' )\n",
    "    b.on_click(callback)\n",
    "    return b\n",
    "\n",
    "def make_populate_folders_button():\n",
    "    pass\n"
   ]
  },
  {
   "cell_type": "code",
   "execution_count": null,
   "id": "092657c9",
   "metadata": {},
   "outputs": [],
   "source": [
    "row_layout = Layout( width='100%', padding='10px' )\n",
    "row1 = HBox([Label(\"Resolution title\"), make_text_input({'label': 'Resolution title', 'handler': store.title})], layout=row_layout)\n",
    "row2 = HBox([Label(\"Sponsoring committee\")], layout=row_layout)\n",
    "row3 = VBox(make_committee_chooser(), layout=row_layout)\n",
    "row4 = HBox([Label(\"Cosponsoring committees\")], layout=row_layout)\n",
    "row5 = VBox(make_cosponsor_chooser(), layout=row_layout)\n",
    "row6 = HBox([make_waiver()], layout=row_layout)\n",
    "row7 = VBox([make_create_button()], layout=row_layout)\n",
    "\n",
    "container = VBox([row1, row2, row3, row4, row5, row6, row7], layout=Layout(border='dashed', width='100%'))\n",
    "display(container)\n"
   ]
  },
  {
   "cell_type": "code",
   "execution_count": null,
   "id": "11feab1d",
   "metadata": {},
   "outputs": [],
   "source": [
    "make_action_button()"
   ]
  },
  {
   "cell_type": "code",
   "execution_count": null,
   "id": "733bee58",
   "metadata": {},
   "outputs": [],
   "source": [
    "display(make_action_button())"
   ]
  },
  {
   "cell_type": "code",
   "execution_count": null,
   "id": "538d4915",
   "metadata": {},
   "outputs": [],
   "source": [
    "beep = False\n",
    "def callback(change):\n",
    "    beep =True\n",
    "    print('click')\n",
    "layout = widgets.Layout( width='100%' )\n",
    "b = widgets.Button( description=\"Create resolution\", layout=layout, button_style='danger' )\n",
    "b.on_click(callback)\n",
    "display(b)    "
   ]
  },
  {
   "cell_type": "code",
   "execution_count": null,
   "id": "59973caa",
   "metadata": {},
   "outputs": [],
   "source": [
    "def make_selection_button( item_id, name, get_func, add_func, remove_func, width='50%', **kwargs ):\n"
   ]
  },
  {
   "cell_type": "code",
   "execution_count": null,
   "id": "2662612b",
   "metadata": {},
   "outputs": [],
   "source": [
    "beep"
   ]
  },
  {
   "cell_type": "code",
   "execution_count": null,
   "id": "051394bf",
   "metadata": {},
   "outputs": [],
   "source": [
    "\n"
   ]
  },
  {
   "cell_type": "code",
   "execution_count": null,
   "id": "74f7a283",
   "metadata": {},
   "outputs": [],
   "source": [
    "c.sponsor"
   ]
  },
  {
   "cell_type": "code",
   "execution_count": null,
   "id": "1be761d2",
   "metadata": {},
   "outputs": [],
   "source": []
  }
 ],
 "metadata": {
  "kernelspec": {
   "display_name": "rezzie-manager",
   "language": "python",
   "name": "rezzie-manager"
  },
  "language_info": {
   "codemirror_mode": {
    "name": "ipython",
    "version": 3
   },
   "file_extension": ".py",
   "mimetype": "text/x-python",
   "name": "python",
   "nbconvert_exporter": "python",
   "pygments_lexer": "ipython3",
   "version": "3.10.12"
  },
  "toc": {
   "base_numbering": 1,
   "nav_menu": {},
   "number_sections": true,
   "sideBar": true,
   "skip_h1_title": false,
   "title_cell": "Table of Contents",
   "title_sidebar": "Contents",
   "toc_cell": false,
   "toc_position": {},
   "toc_section_display": true,
   "toc_window_display": false
  },
  "varInspector": {
   "cols": {
    "lenName": 16,
    "lenType": 16,
    "lenVar": 40
   },
   "kernels_config": {
    "python": {
     "delete_cmd_postfix": "",
     "delete_cmd_prefix": "del ",
     "library": "var_list.py",
     "varRefreshCmd": "print(var_dic_list())"
    },
    "r": {
     "delete_cmd_postfix": ") ",
     "delete_cmd_prefix": "rm(",
     "library": "var_list.r",
     "varRefreshCmd": "cat(var_dic_list()) "
    }
   },
   "types_to_exclude": [
    "module",
    "function",
    "builtin_function_or_method",
    "instance",
    "_Feature"
   ],
   "window_display": false
  }
 },
 "nbformat": 4,
 "nbformat_minor": 5
}
